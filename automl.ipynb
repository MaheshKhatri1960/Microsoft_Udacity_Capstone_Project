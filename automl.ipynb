{
 "cells": [
  {
   "cell_type": "markdown",
   "metadata": {},
   "source": [
    "# Automated ML\n",
    "\n",
    "TODO: Import Dependencies. In the cell below, import all the dependencies that you will need to complete the project."
   ]
  },
  {
   "cell_type": "code",
   "execution_count": 1,
   "metadata": {
    "gather": {
     "logged": 1612788379259
    },
    "jupyter": {
     "outputs_hidden": false,
     "source_hidden": false
    },
    "nteract": {
     "transient": {
      "deleting": false
     }
    }
   },
   "outputs": [
    {
     "name": "stdout",
     "output_type": "stream",
     "text": [
      "SDK version: 1.20.0\n"
     ]
    }
   ],
   "source": [
    "import azureml.core\n",
    "from azureml.core.experiment import Experiment\n",
    "from azureml.core.workspace import Workspace\n",
    "from azureml.train.automl import AutoMLConfig\n",
    "from azureml.core.dataset import Dataset\n",
    "\n",
    "from azureml.core.run import Run\n",
    "from azureml.data.dataset_factory import TabularDatasetFactory\n",
    "\n",
    "from azureml.widgets import RunDetails\n",
    "\n",
    "from azureml.automl.runtime.onnx_convert import OnnxConverter\n",
    "\n",
    "from azureml.core.compute import AmlCompute\n",
    "from azureml.core.compute import ComputeTarget\n",
    "from azureml.core.compute_target import ComputeTargetException\n",
    "\n",
    "from azureml.core.webservice import AciWebservice, Webservice\n",
    "from azureml.core.model import Model, InferenceConfig\n",
    "from azureml.core import Environment\n",
    "from azureml.core.conda_dependencies import CondaDependencies\n",
    "from azureml.automl.core.shared import constants\n",
    "\n",
    "from sklearn.model_selection import train_test_split\n",
    "\n",
    "import pandas as pd\n",
    "import os, shutil, joblib\n",
    "import pickle\n",
    "import json,requests\n",
    "\n",
    "print(\"SDK version:\", azureml.core.VERSION)"
   ]
  },
  {
   "cell_type": "markdown",
   "metadata": {},
   "source": [
    "## Dataset\n",
    "\n",
    "### Overview\n",
    "TODO: In this markdown cell, give an overview of the dataset you are using. Also mention the task you will be performing.\n",
    "\n",
    "https://www.kaggle.com/andrewmvd/heart-failure-clinical-data\n",
    "About this dataset\n",
    "\n",
    "Cardiovascular diseases (CVDs) are the number 1 cause of death globally, taking an estimated 17.9 million lives each year, which accounts for 31% of all deaths worldwide.\n",
    "\n",
    "Heart failure is a common event caused by CVDs and this dataset contains 12 features that can be used to predict mortality by heart failure.\n",
    "\n",
    "Most cardiovascular diseases can be prevented by addressing behavioural risk factors such as tobacco use, unhealthy diet and obesity, physical inactivity and harmful use of alcohol using population-wide strategies.\n",
    "\n",
    "People with cardiovascular disease or who are at high cardiovascular risk (due to the presence of one or more risk factors such as hypertension, diabetes, hyperlipidaemia or already established disease) need early detection and management wherein a machine learning model can be of great help.\n",
    "\n",
    "Citation\n",
    "Davide Chicco, Giuseppe Jurman: Machine learning can predict survival of patients with heart failure from serum creatinine and ejection fraction alone. BMC Medical Informatics and Decision Making 20, 16 (2020). \n",
    "(link) - https://bmcmedinformdecismak.biomedcentral.com/articles/10.1186/s12911-020-1023-5\n",
    "\n",
    "Task - Create a model for predicting mortality caused by Heart Failure.\n",
    "\n",
    "TODO: Get data. In the cell below, write code to access the data you will be using in this project. Remember that the dataset needs to be external.\n",
    "\n",
    "https://github.com/MaheshKhatri1960/Udacity-Capstone-Project/blob/master/starter_file/heart_failure_clinical_records_dataset.csv\n"
   ]
  },
  {
   "cell_type": "markdown",
   "metadata": {},
   "source": [
    "https://raw.githubusercontent.com/MaheshKhatri1960/Udacity-Capstone-Project/master/heart_failure_clinical_records_dataset.csv\n",
    "Dataset imported into Workspace and registered as a dataset named 'train_data_2_ds'\n"
   ]
  },
  {
   "cell_type": "code",
   "execution_count": 2,
   "metadata": {
    "collapsed": true,
    "gather": {
     "logged": 1612788402627
    },
    "jupyter": {
     "outputs_hidden": false,
     "source_hidden": false
    },
    "nteract": {
     "transient": {
      "deleting": false
     }
    }
   },
   "outputs": [],
   "source": [
    "ws = Workspace.from_config()\n",
    "train_data_2_ds = Dataset.get_by_name(ws,name='train_data_2')"
   ]
  },
  {
   "cell_type": "code",
   "execution_count": 3,
   "metadata": {
    "gather": {
     "logged": 1612788416670
    },
    "jupyter": {
     "outputs_hidden": false,
     "source_hidden": false
    },
    "nteract": {
     "transient": {
      "deleting": false
     }
    }
   },
   "outputs": [],
   "source": [
    "#Initialize a workspace object from persisted configuration. Make sure the config file is present at .\\config.json\n",
    "#ws = Workspace.from_config()\n",
    "\n",
    "# choose a name for experiment\n",
    "experiment_name = 'MK-1B08-AutoML'\n",
    "\n",
    "experiment=Experiment(ws, experiment_name)"
   ]
  },
  {
   "cell_type": "code",
   "execution_count": 4,
   "metadata": {
    "gather": {
     "logged": 1612788634214
    }
   },
   "outputs": [
    {
     "name": "stdout",
     "output_type": "stream",
     "text": [
      "Found existing cluster, use it.\n",
      "Succeeded...................................\n",
      "AmlCompute wait for completion finished\n",
      "\n",
      "Wait timeout has been reached\n",
      "Current provisioning state of AmlCompute is \"Succeeded\" and current node count is \"0\"\n"
     ]
    }
   ],
   "source": [
    "#MK-1B08\n",
    "\n",
    "# NOTE: update the cluster name to match the existing cluster\n",
    "# Choose a name for your CPU cluster\n",
    "amlcompute_cluster_name = \"MK-1B08-CC\"\n",
    "\n",
    "# Verify that cluster does not exist already\n",
    "try:\n",
    "    compute_target = ComputeTarget(workspace=ws, name=amlcompute_cluster_name)\n",
    "    print('Found existing cluster, use it.')\n",
    "except ComputeTargetException:\n",
    "    compute_config = AmlCompute.provisioning_configuration(vm_size='STANDARD_D2_V2',# for GPU, use \"STANDARD_NC6\"\n",
    "                                                           #vm_priority = 'lowpriority', # optional\n",
    "                                                           max_nodes=4)\n",
    "    compute_target = ComputeTarget.create(ws, amlcompute_cluster_name, compute_config)\n",
    "\n",
    "compute_target.wait_for_completion(show_output=True, min_node_count = 1, timeout_in_minutes = 3)\n"
   ]
  },
  {
   "cell_type": "markdown",
   "metadata": {},
   "source": [
    "## AutoML Configuration\n",
    "\n",
    "TODO: Explain why you chose the automl settings and cofiguration you used below."
   ]
  },
  {
   "cell_type": "code",
   "execution_count": null,
   "metadata": {},
   "outputs": [],
   "source": [
    "Choice of AutoML settings & configuration - Explained in the README file"
   ]
  },
  {
   "cell_type": "code",
   "execution_count": 5,
   "metadata": {
    "collapsed": true,
    "gather": {
     "logged": 1612788645816
    },
    "jupyter": {
     "outputs_hidden": false,
     "source_hidden": false
    },
    "nteract": {
     "transient": {
      "deleting": false
     }
    }
   },
   "outputs": [],
   "source": [
    "automl_settings = {\n",
    "    \"enable_early_stopping\" : True,\n",
    "    \"featurization\": 'auto',\n",
    "    \"verbosity\": logging.INFO,\n",
    "}\n",
    "\n",
    "automl_config = AutoMLConfig(\n",
    "    compute_target=compute_target,\n",
    "    experiment_timeout_minutes=20,\n",
    "    task=\"classification\",\n",
    "    primary_metric=\"accuracy\",\n",
    "    training_data=train_data_2_ds,\n",
    "    label_column_name=\"DEATH_EVENT\",\n",
    "    enable_onnx_compatible_models=True,\n",
    "    n_cross_validations=5,\n",
    "    debug_log = \"automl_errors.log\",\n",
    "    **automl_settings\n",
    ")"
   ]
  },
  {
   "cell_type": "code",
   "execution_count": 6,
   "metadata": {
    "gather": {
     "logged": 1612790491378
    },
    "jupyter": {
     "outputs_hidden": false,
     "source_hidden": false
    },
    "nteract": {
     "transient": {
      "deleting": false
     }
    },
    "scrolled": true
   },
   "outputs": [
    {
     "name": "stdout",
     "output_type": "stream",
     "text": [
      "Running on remote.\n",
      "No run_configuration provided, running on MK-1B08-CC with default configuration\n",
      "Running on remote compute: MK-1B08-CC\n",
      "Parent Run ID: AutoML_1595a0c0-57aa-4749-8bda-bd8ae7747eec\n",
      "\n",
      "Current status: FeaturesGeneration. Generating features for the dataset.\n",
      "Current status: ModelSelection. Beginning model selection.\n",
      "\n",
      "****************************************************************************************************\n",
      "DATA GUARDRAILS: \n",
      "\n",
      "TYPE:         Class balancing detection\n",
      "STATUS:       PASSED\n",
      "DESCRIPTION:  Your inputs were analyzed, and all classes are balanced in your training data.\n",
      "              Learn more about imbalanced data: https://aka.ms/AutomatedMLImbalancedData\n",
      "\n",
      "****************************************************************************************************\n",
      "\n",
      "TYPE:         Missing feature values imputation\n",
      "STATUS:       PASSED\n",
      "DESCRIPTION:  No feature missing values were detected in the training data.\n",
      "              Learn more about missing value imputation: https://aka.ms/AutomatedMLFeaturization\n",
      "\n",
      "****************************************************************************************************\n",
      "\n",
      "TYPE:         High cardinality feature detection\n",
      "STATUS:       PASSED\n",
      "DESCRIPTION:  Your inputs were analyzed, and no high cardinality features were detected.\n",
      "              Learn more about high cardinality feature handling: https://aka.ms/AutomatedMLFeaturization\n",
      "\n",
      "****************************************************************************************************\n",
      "\n",
      "****************************************************************************************************\n",
      "ITERATION: The iteration being evaluated.\n",
      "PIPELINE: A summary description of the pipeline being evaluated.\n",
      "DURATION: Time taken for the current iteration.\n",
      "METRIC: The result of computing score on the fitted pipeline.\n",
      "BEST: The best observed score thus far.\n",
      "****************************************************************************************************\n",
      "\n",
      " ITERATION   PIPELINE                                       DURATION      METRIC      BEST\n",
      "         0   MaxAbsScaler LightGBM                          0:00:55       0.8060    0.8060\n",
      "         1   MaxAbsScaler XGBoostClassifier                 0:00:50       0.8259    0.8259\n",
      "         2   MinMaxScaler RandomForest                      0:01:01       0.8160    0.8259\n",
      "         3   MinMaxScaler RandomForest                      0:00:46       0.8395    0.8395\n",
      "         4   MinMaxScaler RandomForest                      0:00:59       0.8325    0.8395\n",
      "         5   MinMaxScaler SVM                               0:00:53       0.7224    0.8395\n",
      "         6   MaxAbsScaler GradientBoosting                  0:00:52       0.8260    0.8395\n",
      "         7   StandardScalerWrapper RandomForest             0:00:50       0.8259    0.8395\n",
      "         8   SparseNormalizer XGBoostClassifier             0:01:00       0.8496    0.8496\n",
      "         9   SparseNormalizer LightGBM                      0:00:55       0.7360    0.8496\n",
      "        10   StandardScalerWrapper LightGBM                 0:00:51       0.8160    0.8496\n",
      "        11   RobustScaler ExtremeRandomTrees                0:00:47       0.8462    0.8496\n",
      "        12   StandardScalerWrapper LightGBM                 0:01:02       0.8327    0.8496\n",
      "        13   StandardScalerWrapper RandomForest             0:00:47       0.8227    0.8496\n",
      "        14   MaxAbsScaler LightGBM                          0:00:51       0.8460    0.8496\n",
      "        15   SparseNormalizer XGBoostClassifier             0:01:01       0.8462    0.8496\n",
      "        16   MinMaxScaler LightGBM                          0:00:49       0.8360    0.8496\n",
      "        17   StandardScalerWrapper LightGBM                 0:00:52       0.8294    0.8496\n",
      "        18    VotingEnsemble                                0:01:08       0.8730    0.8730\n"
     ]
    }
   ],
   "source": [
    "# TODO: Submit your experiment\n",
    "\n",
    "remote_run = experiment.submit(automl_config, show_output=True)\n",
    "\n"
   ]
  },
  {
   "cell_type": "markdown",
   "metadata": {},
   "source": [
    "## Run Details\n",
    "\n",
    "OPTIONAL: Write about the different models trained and their performance. Why do you think some models did better than others?\n"
   ]
  },
  {
   "cell_type": "code",
   "execution_count": null,
   "metadata": {},
   "outputs": [],
   "source": [
    "# MK - 1A30 - To Do\n",
    "OPTIONAL: Write about the different models trained and their performance. Why do you think some models did better than others?"
   ]
  },
  {
   "cell_type": "markdown",
   "metadata": {},
   "source": [
    "TODO: In the cell below, use the `RunDetails` widget to show the different experiments."
   ]
  },
  {
   "cell_type": "code",
   "execution_count": 7,
   "metadata": {
    "gather": {
     "logged": 1612790768038
    },
    "jupyter": {
     "outputs_hidden": false,
     "source_hidden": false
    },
    "nteract": {
     "transient": {
      "deleting": false
     }
    }
   },
   "outputs": [
    {
     "data": {
      "application/vnd.jupyter.widget-view+json": {
       "model_id": "141a40d2703c4b46a1a10d7b4e52883c",
       "version_major": 2,
       "version_minor": 0
      },
      "text/plain": [
       "_AutoMLWidget(widget_settings={'childWidgetDisplay': 'popup', 'send_telemetry': False, 'log_level': 'INFO', 's…"
      ]
     },
     "metadata": {},
     "output_type": "display_data"
    },
    {
     "data": {
      "application/aml.mini.widget.v1": "{\"status\": \"Completed\", \"workbench_run_details_uri\": \"https://ml.azure.com/experiments/MK-1B08-AutoML/runs/AutoML_1595a0c0-57aa-4749-8bda-bd8ae7747eec?wsid=/subscriptions/a0a76bad-11a1-4a2d-9887-97a29122c8ed/resourcegroups/aml-quickstarts-138139/workspaces/quick-starts-ws-138139\", \"run_id\": \"AutoML_1595a0c0-57aa-4749-8bda-bd8ae7747eec\", \"run_properties\": {\"run_id\": \"AutoML_1595a0c0-57aa-4749-8bda-bd8ae7747eec\", \"created_utc\": \"2021-02-08T12:51:00.372432Z\", \"properties\": {\"num_iterations\": \"1000\", \"training_type\": \"TrainFull\", \"acquisition_function\": \"EI\", \"primary_metric\": \"accuracy\", \"train_split\": \"0\", \"acquisition_parameter\": \"0\", \"num_cross_validation\": \"5\", \"target\": \"MK-1B08-CC\", \"AMLSettingsJsonString\": \"{\\\"path\\\":null,\\\"name\\\":\\\"MK-1B08-AutoML\\\",\\\"subscription_id\\\":\\\"a0a76bad-11a1-4a2d-9887-97a29122c8ed\\\",\\\"resource_group\\\":\\\"aml-quickstarts-138139\\\",\\\"workspace_name\\\":\\\"quick-starts-ws-138139\\\",\\\"region\\\":\\\"southcentralus\\\",\\\"compute_target\\\":\\\"MK-1B08-CC\\\",\\\"spark_service\\\":null,\\\"azure_service\\\":\\\"remote\\\",\\\"many_models\\\":false,\\\"pipeline_fetch_max_batch_size\\\":1,\\\"iterations\\\":1000,\\\"primary_metric\\\":\\\"accuracy\\\",\\\"task_type\\\":\\\"classification\\\",\\\"data_script\\\":null,\\\"validation_size\\\":0.0,\\\"n_cross_validations\\\":5,\\\"y_min\\\":null,\\\"y_max\\\":null,\\\"num_classes\\\":null,\\\"featurization\\\":\\\"auto\\\",\\\"_ignore_package_version_incompatibilities\\\":false,\\\"is_timeseries\\\":false,\\\"max_cores_per_iteration\\\":1,\\\"max_concurrent_iterations\\\":1,\\\"iteration_timeout_minutes\\\":null,\\\"mem_in_mb\\\":null,\\\"enforce_time_on_windows\\\":false,\\\"experiment_timeout_minutes\\\":20,\\\"experiment_exit_score\\\":null,\\\"whitelist_models\\\":null,\\\"blacklist_algos\\\":[\\\"TensorFlowLinearClassifier\\\",\\\"TensorFlowDNN\\\"],\\\"supported_models\\\":[\\\"TensorFlowDNN\\\",\\\"MultinomialNaiveBayes\\\",\\\"RandomForest\\\",\\\"LogisticRegression\\\",\\\"AveragedPerceptronClassifier\\\",\\\"SVM\\\",\\\"LightGBM\\\",\\\"XGBoostClassifier\\\",\\\"LinearSVM\\\",\\\"BernoulliNaiveBayes\\\",\\\"KNN\\\",\\\"TensorFlowLinearClassifier\\\",\\\"ExtremeRandomTrees\\\",\\\"SGD\\\",\\\"GradientBoosting\\\",\\\"DecisionTree\\\"],\\\"auto_blacklist\\\":true,\\\"blacklist_samples_reached\\\":false,\\\"exclude_nan_labels\\\":true,\\\"verbosity\\\":20,\\\"_debug_log\\\":\\\"azureml_automl.log\\\",\\\"show_warnings\\\":false,\\\"model_explainability\\\":true,\\\"service_url\\\":null,\\\"sdk_url\\\":null,\\\"sdk_packages\\\":null,\\\"enable_onnx_compatible_models\\\":true,\\\"enable_split_onnx_featurizer_estimator_models\\\":false,\\\"vm_type\\\":\\\"STANDARD_D2_V2\\\",\\\"telemetry_verbosity\\\":20,\\\"send_telemetry\\\":true,\\\"enable_dnn\\\":false,\\\"scenario\\\":\\\"SDK-1.13.0\\\",\\\"environment_label\\\":null,\\\"force_text_dnn\\\":false,\\\"enable_feature_sweeping\\\":false,\\\"enable_early_stopping\\\":true,\\\"early_stopping_n_iters\\\":10,\\\"metrics\\\":null,\\\"enable_ensembling\\\":true,\\\"enable_stack_ensembling\\\":false,\\\"ensemble_iterations\\\":15,\\\"enable_tf\\\":false,\\\"enable_subsampling\\\":null,\\\"subsample_seed\\\":null,\\\"enable_nimbusml\\\":false,\\\"enable_streaming\\\":false,\\\"force_streaming\\\":false,\\\"track_child_runs\\\":true,\\\"allowed_private_models\\\":[],\\\"label_column_name\\\":\\\"DEATH_EVENT\\\",\\\"weight_column_name\\\":null,\\\"cv_split_column_names\\\":null,\\\"enable_local_managed\\\":false,\\\"_local_managed_run_id\\\":null,\\\"cost_mode\\\":1,\\\"lag_length\\\":0,\\\"metric_operation\\\":\\\"maximize\\\",\\\"preprocess\\\":true}\", \"DataPrepJsonString\": \"{\\\\\\\"training_data\\\\\\\": \\\\\\\"{\\\\\\\\\\\\\\\"blocks\\\\\\\\\\\\\\\": [{\\\\\\\\\\\\\\\"id\\\\\\\\\\\\\\\": \\\\\\\\\\\\\\\"7d08c3b5-a354-4571-a54f-b2e8dffab97f\\\\\\\\\\\\\\\", \\\\\\\\\\\\\\\"type\\\\\\\\\\\\\\\": \\\\\\\\\\\\\\\"Microsoft.DPrep.GetFilesBlock\\\\\\\\\\\\\\\", \\\\\\\\\\\\\\\"arguments\\\\\\\\\\\\\\\": {\\\\\\\\\\\\\\\"isArchive\\\\\\\\\\\\\\\": false, \\\\\\\\\\\\\\\"path\\\\\\\\\\\\\\\": {\\\\\\\\\\\\\\\"target\\\\\\\\\\\\\\\": 4, \\\\\\\\\\\\\\\"resourceDetails\\\\\\\\\\\\\\\": [{\\\\\\\\\\\\\\\"path\\\\\\\\\\\\\\\": \\\\\\\\\\\\\\\"https://raw.githubusercontent.com/MaheshKhatri1960/Udacity-Capstone-Project/master/heart_failure_clinical_records_dataset.csv\\\\\\\\\\\\\\\"}]}}, \\\\\\\\\\\\\\\"localData\\\\\\\\\\\\\\\": {}, \\\\\\\\\\\\\\\"isEnabled\\\\\\\\\\\\\\\": true, \\\\\\\\\\\\\\\"name\\\\\\\\\\\\\\\": null, \\\\\\\\\\\\\\\"annotation\\\\\\\\\\\\\\\": null}, {\\\\\\\\\\\\\\\"id\\\\\\\\\\\\\\\": \\\\\\\\\\\\\\\"cbe1156f-e452-4050-9709-8eb26749550d\\\\\\\\\\\\\\\", \\\\\\\\\\\\\\\"type\\\\\\\\\\\\\\\": \\\\\\\\\\\\\\\"Microsoft.DPrep.ParseDelimitedBlock\\\\\\\\\\\\\\\", \\\\\\\\\\\\\\\"arguments\\\\\\\\\\\\\\\": {\\\\\\\\\\\\\\\"columnHeadersMode\\\\\\\\\\\\\\\": 1, \\\\\\\\\\\\\\\"fileEncoding\\\\\\\\\\\\\\\": 0, \\\\\\\\\\\\\\\"handleQuotedLineBreaks\\\\\\\\\\\\\\\": false, \\\\\\\\\\\\\\\"preview\\\\\\\\\\\\\\\": false, \\\\\\\\\\\\\\\"separator\\\\\\\\\\\\\\\": \\\\\\\\\\\\\\\",\\\\\\\\\\\\\\\", \\\\\\\\\\\\\\\"skipRows\\\\\\\\\\\\\\\": 0, \\\\\\\\\\\\\\\"skipRowsMode\\\\\\\\\\\\\\\": 0}, \\\\\\\\\\\\\\\"localData\\\\\\\\\\\\\\\": {}, \\\\\\\\\\\\\\\"isEnabled\\\\\\\\\\\\\\\": true, \\\\\\\\\\\\\\\"name\\\\\\\\\\\\\\\": null, \\\\\\\\\\\\\\\"annotation\\\\\\\\\\\\\\\": null}, {\\\\\\\\\\\\\\\"id\\\\\\\\\\\\\\\": \\\\\\\\\\\\\\\"c3fe7a33-79ac-42c8-880d-4192c0aadc0b\\\\\\\\\\\\\\\", \\\\\\\\\\\\\\\"type\\\\\\\\\\\\\\\": \\\\\\\\\\\\\\\"Microsoft.DPrep.DropColumnsBlock\\\\\\\\\\\\\\\", \\\\\\\\\\\\\\\"arguments\\\\\\\\\\\\\\\": {\\\\\\\\\\\\\\\"columns\\\\\\\\\\\\\\\": {\\\\\\\\\\\\\\\"type\\\\\\\\\\\\\\\": 0, \\\\\\\\\\\\\\\"details\\\\\\\\\\\\\\\": {\\\\\\\\\\\\\\\"selectedColumns\\\\\\\\\\\\\\\": [\\\\\\\\\\\\\\\"Path\\\\\\\\\\\\\\\"]}}}, \\\\\\\\\\\\\\\"localData\\\\\\\\\\\\\\\": {}, \\\\\\\\\\\\\\\"isEnabled\\\\\\\\\\\\\\\": true, \\\\\\\\\\\\\\\"name\\\\\\\\\\\\\\\": null, \\\\\\\\\\\\\\\"annotation\\\\\\\\\\\\\\\": null}, {\\\\\\\\\\\\\\\"id\\\\\\\\\\\\\\\": \\\\\\\\\\\\\\\"05037d3e-c49b-4c78-9fa1-2553dc1be3f3\\\\\\\\\\\\\\\", \\\\\\\\\\\\\\\"type\\\\\\\\\\\\\\\": \\\\\\\\\\\\\\\"Microsoft.DPrep.SetColumnTypesBlock\\\\\\\\\\\\\\\", \\\\\\\\\\\\\\\"arguments\\\\\\\\\\\\\\\": {\\\\\\\\\\\\\\\"columnConversion\\\\\\\\\\\\\\\": [{\\\\\\\\\\\\\\\"column\\\\\\\\\\\\\\\": {\\\\\\\\\\\\\\\"type\\\\\\\\\\\\\\\": 2, \\\\\\\\\\\\\\\"details\\\\\\\\\\\\\\\": {\\\\\\\\\\\\\\\"selectedColumn\\\\\\\\\\\\\\\": \\\\\\\\\\\\\\\"Path\\\\\\\\\\\\\\\"}}, \\\\\\\\\\\\\\\"typeProperty\\\\\\\\\\\\\\\": 0}, {\\\\\\\\\\\\\\\"column\\\\\\\\\\\\\\\": {\\\\\\\\\\\\\\\"type\\\\\\\\\\\\\\\": 2, \\\\\\\\\\\\\\\"details\\\\\\\\\\\\\\\": {\\\\\\\\\\\\\\\"selectedColumn\\\\\\\\\\\\\\\": \\\\\\\\\\\\\\\"age\\\\\\\\\\\\\\\"}}, \\\\\\\\\\\\\\\"typeProperty\\\\\\\\\\\\\\\": 3}, {\\\\\\\\\\\\\\\"column\\\\\\\\\\\\\\\": {\\\\\\\\\\\\\\\"type\\\\\\\\\\\\\\\": 2, \\\\\\\\\\\\\\\"details\\\\\\\\\\\\\\\": {\\\\\\\\\\\\\\\"selectedColumn\\\\\\\\\\\\\\\": \\\\\\\\\\\\\\\"anaemia\\\\\\\\\\\\\\\"}}, \\\\\\\\\\\\\\\"typeProperty\\\\\\\\\\\\\\\": 2}, {\\\\\\\\\\\\\\\"column\\\\\\\\\\\\\\\": {\\\\\\\\\\\\\\\"type\\\\\\\\\\\\\\\": 2, \\\\\\\\\\\\\\\"details\\\\\\\\\\\\\\\": {\\\\\\\\\\\\\\\"selectedColumn\\\\\\\\\\\\\\\": \\\\\\\\\\\\\\\"creatinine_phosphokinase\\\\\\\\\\\\\\\"}}, \\\\\\\\\\\\\\\"typeProperty\\\\\\\\\\\\\\\": 2}, {\\\\\\\\\\\\\\\"column\\\\\\\\\\\\\\\": {\\\\\\\\\\\\\\\"type\\\\\\\\\\\\\\\": 2, \\\\\\\\\\\\\\\"details\\\\\\\\\\\\\\\": {\\\\\\\\\\\\\\\"selectedColumn\\\\\\\\\\\\\\\": \\\\\\\\\\\\\\\"diabetes\\\\\\\\\\\\\\\"}}, \\\\\\\\\\\\\\\"typeProperty\\\\\\\\\\\\\\\": 2}, {\\\\\\\\\\\\\\\"column\\\\\\\\\\\\\\\": {\\\\\\\\\\\\\\\"type\\\\\\\\\\\\\\\": 2, \\\\\\\\\\\\\\\"details\\\\\\\\\\\\\\\": {\\\\\\\\\\\\\\\"selectedColumn\\\\\\\\\\\\\\\": \\\\\\\\\\\\\\\"ejection_fraction\\\\\\\\\\\\\\\"}}, \\\\\\\\\\\\\\\"typeProperty\\\\\\\\\\\\\\\": 2}, {\\\\\\\\\\\\\\\"column\\\\\\\\\\\\\\\": {\\\\\\\\\\\\\\\"type\\\\\\\\\\\\\\\": 2, \\\\\\\\\\\\\\\"details\\\\\\\\\\\\\\\": {\\\\\\\\\\\\\\\"selectedColumn\\\\\\\\\\\\\\\": \\\\\\\\\\\\\\\"high_blood_pressure\\\\\\\\\\\\\\\"}}, \\\\\\\\\\\\\\\"typeProperty\\\\\\\\\\\\\\\": 2}, {\\\\\\\\\\\\\\\"column\\\\\\\\\\\\\\\": {\\\\\\\\\\\\\\\"type\\\\\\\\\\\\\\\": 2, \\\\\\\\\\\\\\\"details\\\\\\\\\\\\\\\": {\\\\\\\\\\\\\\\"selectedColumn\\\\\\\\\\\\\\\": \\\\\\\\\\\\\\\"platelets\\\\\\\\\\\\\\\"}}, \\\\\\\\\\\\\\\"typeProperty\\\\\\\\\\\\\\\": 3}, {\\\\\\\\\\\\\\\"column\\\\\\\\\\\\\\\": {\\\\\\\\\\\\\\\"type\\\\\\\\\\\\\\\": 2, \\\\\\\\\\\\\\\"details\\\\\\\\\\\\\\\": {\\\\\\\\\\\\\\\"selectedColumn\\\\\\\\\\\\\\\": \\\\\\\\\\\\\\\"serum_creatinine\\\\\\\\\\\\\\\"}}, \\\\\\\\\\\\\\\"typeProperty\\\\\\\\\\\\\\\": 3}, {\\\\\\\\\\\\\\\"column\\\\\\\\\\\\\\\": {\\\\\\\\\\\\\\\"type\\\\\\\\\\\\\\\": 2, \\\\\\\\\\\\\\\"details\\\\\\\\\\\\\\\": {\\\\\\\\\\\\\\\"selectedColumn\\\\\\\\\\\\\\\": \\\\\\\\\\\\\\\"serum_sodium\\\\\\\\\\\\\\\"}}, \\\\\\\\\\\\\\\"typeProperty\\\\\\\\\\\\\\\": 2}, {\\\\\\\\\\\\\\\"column\\\\\\\\\\\\\\\": {\\\\\\\\\\\\\\\"type\\\\\\\\\\\\\\\": 2, \\\\\\\\\\\\\\\"details\\\\\\\\\\\\\\\": {\\\\\\\\\\\\\\\"selectedColumn\\\\\\\\\\\\\\\": \\\\\\\\\\\\\\\"sex\\\\\\\\\\\\\\\"}}, \\\\\\\\\\\\\\\"typeProperty\\\\\\\\\\\\\\\": 2}, {\\\\\\\\\\\\\\\"column\\\\\\\\\\\\\\\": {\\\\\\\\\\\\\\\"type\\\\\\\\\\\\\\\": 2, \\\\\\\\\\\\\\\"details\\\\\\\\\\\\\\\": {\\\\\\\\\\\\\\\"selectedColumn\\\\\\\\\\\\\\\": \\\\\\\\\\\\\\\"smoking\\\\\\\\\\\\\\\"}}, \\\\\\\\\\\\\\\"typeProperty\\\\\\\\\\\\\\\": 2}, {\\\\\\\\\\\\\\\"column\\\\\\\\\\\\\\\": {\\\\\\\\\\\\\\\"type\\\\\\\\\\\\\\\": 2, \\\\\\\\\\\\\\\"details\\\\\\\\\\\\\\\": {\\\\\\\\\\\\\\\"selectedColumn\\\\\\\\\\\\\\\": \\\\\\\\\\\\\\\"time\\\\\\\\\\\\\\\"}}, \\\\\\\\\\\\\\\"typeProperty\\\\\\\\\\\\\\\": 2}, {\\\\\\\\\\\\\\\"column\\\\\\\\\\\\\\\": {\\\\\\\\\\\\\\\"type\\\\\\\\\\\\\\\": 2, \\\\\\\\\\\\\\\"details\\\\\\\\\\\\\\\": {\\\\\\\\\\\\\\\"selectedColumn\\\\\\\\\\\\\\\": \\\\\\\\\\\\\\\"DEATH_EVENT\\\\\\\\\\\\\\\"}}, \\\\\\\\\\\\\\\"typeProperty\\\\\\\\\\\\\\\": 2}]}, \\\\\\\\\\\\\\\"localData\\\\\\\\\\\\\\\": {}, \\\\\\\\\\\\\\\"isEnabled\\\\\\\\\\\\\\\": true, \\\\\\\\\\\\\\\"name\\\\\\\\\\\\\\\": null, \\\\\\\\\\\\\\\"annotation\\\\\\\\\\\\\\\": null}], \\\\\\\\\\\\\\\"inspectors\\\\\\\\\\\\\\\": [], \\\\\\\\\\\\\\\"meta\\\\\\\\\\\\\\\": {\\\\\\\\\\\\\\\"savedDatasetId\\\\\\\\\\\\\\\": \\\\\\\\\\\\\\\"e3e7c995-148c-4e36-b565-8e64bbf04d50\\\\\\\\\\\\\\\", \\\\\\\\\\\\\\\"datasetType\\\\\\\\\\\\\\\": \\\\\\\\\\\\\\\"tabular\\\\\\\\\\\\\\\", \\\\\\\\\\\\\\\"subscriptionId\\\\\\\\\\\\\\\": \\\\\\\\\\\\\\\"a0a76bad-11a1-4a2d-9887-97a29122c8ed\\\\\\\\\\\\\\\", \\\\\\\\\\\\\\\"workspaceId\\\\\\\\\\\\\\\": \\\\\\\\\\\\\\\"be1d8ec8-754e-49a7-b08d-ffc161aebe15\\\\\\\\\\\\\\\", \\\\\\\\\\\\\\\"workspaceLocation\\\\\\\\\\\\\\\": \\\\\\\\\\\\\\\"southcentralus\\\\\\\\\\\\\\\"}}\\\\\\\", \\\\\\\"activities\\\\\\\": 0}\", \"EnableSubsampling\": null, \"runTemplate\": \"AutoML\", \"azureml.runsource\": \"automl\", \"display_task_type\": \"classification\", \"dependencies_versions\": \"{\\\"azureml-widgets\\\": \\\"1.20.0\\\", \\\"azureml-train\\\": \\\"1.20.0\\\", \\\"azureml-train-restclients-hyperdrive\\\": \\\"1.20.0\\\", \\\"azureml-train-core\\\": \\\"1.20.0\\\", \\\"azureml-train-automl\\\": \\\"1.20.0\\\", \\\"azureml-train-automl-runtime\\\": \\\"1.20.0\\\", \\\"azureml-train-automl-client\\\": \\\"1.20.0\\\", \\\"azureml-tensorboard\\\": \\\"1.20.0\\\", \\\"azureml-telemetry\\\": \\\"1.20.0\\\", \\\"azureml-sdk\\\": \\\"1.20.0\\\", \\\"azureml-samples\\\": \\\"0+unknown\\\", \\\"azureml-pipeline\\\": \\\"1.20.0\\\", \\\"azureml-pipeline-steps\\\": \\\"1.20.0\\\", \\\"azureml-pipeline-core\\\": \\\"1.20.0\\\", \\\"azureml-opendatasets\\\": \\\"1.20.0\\\", \\\"azureml-model-management-sdk\\\": \\\"1.0.1b6.post1\\\", \\\"azureml-mlflow\\\": \\\"1.20.0.post1\\\", \\\"azureml-interpret\\\": \\\"1.20.0\\\", \\\"azureml-explain-model\\\": \\\"1.20.0\\\", \\\"azureml-defaults\\\": \\\"1.20.0\\\", \\\"azureml-dataset-runtime\\\": \\\"1.20.0\\\", \\\"azureml-dataprep\\\": \\\"2.7.3\\\", \\\"azureml-dataprep-rslex\\\": \\\"1.5.0\\\", \\\"azureml-dataprep-native\\\": \\\"27.0.0\\\", \\\"azureml-datadrift\\\": \\\"1.20.0\\\", \\\"azureml-core\\\": \\\"1.20.0\\\", \\\"azureml-contrib-services\\\": \\\"1.20.0\\\", \\\"azureml-contrib-server\\\": \\\"1.20.0\\\", \\\"azureml-contrib-reinforcementlearning\\\": \\\"1.20.0\\\", \\\"azureml-contrib-pipeline-steps\\\": \\\"1.20.0\\\", \\\"azureml-contrib-notebook\\\": \\\"1.20.0\\\", \\\"azureml-contrib-interpret\\\": \\\"1.20.0\\\", \\\"azureml-contrib-gbdt\\\": \\\"1.20.0\\\", \\\"azureml-contrib-fairness\\\": \\\"1.20.0\\\", \\\"azureml-contrib-dataset\\\": \\\"1.20.0\\\", \\\"azureml-cli-common\\\": \\\"1.20.0\\\", \\\"azureml-automl-runtime\\\": \\\"1.20.0\\\", \\\"azureml-automl-core\\\": \\\"1.20.0\\\", \\\"azureml-accel-models\\\": \\\"1.20.0\\\"}\", \"_aml_system_scenario_identification\": \"Remote.Parent\", \"ClientType\": \"SDK\", \"environment_cpu_name\": \"AzureML-AutoML\", \"environment_cpu_label\": \"prod\", \"environment_gpu_name\": \"AzureML-AutoML-GPU\", \"environment_gpu_label\": \"prod\", \"root_attribution\": \"automl\", \"attribution\": \"AutoML\", \"Orchestrator\": \"AutoML\", \"CancelUri\": \"https://southcentralus.experiments.azureml.net/jasmine/v1.0/subscriptions/a0a76bad-11a1-4a2d-9887-97a29122c8ed/resourceGroups/aml-quickstarts-138139/providers/Microsoft.MachineLearningServices/workspaces/quick-starts-ws-138139/experimentids/7779bcf7-7058-463d-9d7a-80ab2c94f0b2/cancel/AutoML_1595a0c0-57aa-4749-8bda-bd8ae7747eec\", \"ClientSdkVersion\": \"1.21.0\", \"snapshotId\": \"00000000-0000-0000-0000-000000000000\", \"SetupRunId\": \"AutoML_1595a0c0-57aa-4749-8bda-bd8ae7747eec_setup\", \"SetupRunContainerId\": \"dcid.AutoML_1595a0c0-57aa-4749-8bda-bd8ae7747eec_setup\", \"FeaturizationRunJsonPath\": \"featurizer_container.json\", \"FeaturizationRunId\": \"AutoML_1595a0c0-57aa-4749-8bda-bd8ae7747eec_featurize\", \"ProblemInfoJsonString\": \"{\\\"dataset_num_categorical\\\": 0, \\\"is_sparse\\\": false, \\\"subsampling\\\": false, \\\"dataset_classes\\\": 2, \\\"dataset_features\\\": 12, \\\"dataset_samples\\\": 299, \\\"single_frequency_class_detected\\\": false}\", \"ModelExplainRunId\": \"AutoML_1595a0c0-57aa-4749-8bda-bd8ae7747eec_ModelExplain\"}, \"tags\": {\"model_explain_run\": \"best_run\", \"_aml_system_azureml.automlComponent\": \"AutoML\", \"pipeline_id\": \"\", \"score\": \"\", \"predicted_cost\": \"\", \"fit_time\": \"\", \"training_percent\": \"\", \"iteration\": \"\", \"run_preprocessor\": \"\", \"run_algorithm\": \"\", \"automl_best_child_run_id\": \"AutoML_1595a0c0-57aa-4749-8bda-bd8ae7747eec_18\", \"model_explain_best_run_child_id\": \"AutoML_1595a0c0-57aa-4749-8bda-bd8ae7747eec_18\"}, \"end_time_utc\": \"2021-02-08T13:21:20.928017Z\", \"status\": \"Completed\", \"log_files\": {}, \"log_groups\": [], \"run_duration\": \"0:30:20\"}, \"child_runs\": [{\"run_id\": \"AutoML_1595a0c0-57aa-4749-8bda-bd8ae7747eec_0\", \"run_number\": 5, \"metric\": null, \"status\": \"Completed\", \"run_type\": \"azureml.scriptrun\", \"training_percent\": \"100\", \"start_time\": \"2021-02-08T12:59:16.676859Z\", \"end_time\": \"2021-02-08T13:00:11.591191Z\", \"created_time\": \"2021-02-08T12:59:04.587702Z\", \"created_time_dt\": \"2021-02-08T12:59:04.587702Z\", \"duration\": \"0:01:07\", \"iteration\": \"0\", \"goal\": \"accuracy_max\", \"run_name\": \"MaxAbsScaler, LightGBM\", \"run_properties\": \"copy=True\", \"primary_metric\": 0.8059887, \"best_metric\": 0.8059887}, {\"run_id\": \"AutoML_1595a0c0-57aa-4749-8bda-bd8ae7747eec_1\", \"run_number\": 6, \"metric\": null, \"status\": \"Completed\", \"run_type\": \"azureml.scriptrun\", \"training_percent\": \"100\", \"start_time\": \"2021-02-08T13:00:26.222888Z\", \"end_time\": \"2021-02-08T13:01:16.40823Z\", \"created_time\": \"2021-02-08T13:00:13.247464Z\", \"created_time_dt\": \"2021-02-08T13:00:13.247464Z\", \"duration\": \"0:01:03\", \"iteration\": \"1\", \"goal\": \"accuracy_max\", \"run_name\": \"MaxAbsScaler, XGBoostClassifier\", \"run_properties\": \"copy=True\", \"primary_metric\": 0.8259322, \"best_metric\": 0.8259322}, {\"run_id\": \"AutoML_1595a0c0-57aa-4749-8bda-bd8ae7747eec_2\", \"run_number\": 7, \"metric\": null, \"status\": \"Completed\", \"run_type\": \"azureml.scriptrun\", \"training_percent\": \"100\", \"start_time\": \"2021-02-08T13:01:31.672428Z\", \"end_time\": \"2021-02-08T13:02:32.825904Z\", \"created_time\": \"2021-02-08T13:01:18.554957Z\", \"created_time_dt\": \"2021-02-08T13:01:18.554957Z\", \"duration\": \"0:01:14\", \"iteration\": \"2\", \"goal\": \"accuracy_max\", \"run_name\": \"MinMaxScaler, RandomForest\", \"run_properties\": \"copy=True, feature_range=(0, 1\", \"primary_metric\": 0.8160452, \"best_metric\": 0.8259322}, {\"run_id\": \"AutoML_1595a0c0-57aa-4749-8bda-bd8ae7747eec_3\", \"run_number\": 8, \"metric\": null, \"status\": \"Completed\", \"run_type\": \"azureml.scriptrun\", \"training_percent\": \"100\", \"start_time\": \"2021-02-08T13:02:48.526814Z\", \"end_time\": \"2021-02-08T13:03:34.369913Z\", \"created_time\": \"2021-02-08T13:02:36.471366Z\", \"created_time_dt\": \"2021-02-08T13:02:36.471366Z\", \"duration\": \"0:00:57\", \"iteration\": \"3\", \"goal\": \"accuracy_max\", \"run_name\": \"MinMaxScaler, RandomForest\", \"run_properties\": \"copy=True, feature_range=(0, 1\", \"primary_metric\": 0.83954802, \"best_metric\": 0.83954802}, {\"run_id\": \"AutoML_1595a0c0-57aa-4749-8bda-bd8ae7747eec_4\", \"run_number\": 9, \"metric\": null, \"status\": \"Completed\", \"run_type\": \"azureml.scriptrun\", \"training_percent\": \"100\", \"start_time\": \"2021-02-08T13:03:52.001157Z\", \"end_time\": \"2021-02-08T13:04:50.546869Z\", \"created_time\": \"2021-02-08T13:03:36.902212Z\", \"created_time_dt\": \"2021-02-08T13:03:36.902212Z\", \"duration\": \"0:01:13\", \"iteration\": \"4\", \"goal\": \"accuracy_max\", \"run_name\": \"MinMaxScaler, RandomForest\", \"run_properties\": \"copy=True, feature_range=(0, 1\", \"primary_metric\": 0.83254237, \"best_metric\": 0.83954802}, {\"run_id\": \"AutoML_1595a0c0-57aa-4749-8bda-bd8ae7747eec_5\", \"run_number\": 10, \"metric\": null, \"status\": \"Completed\", \"run_type\": \"azureml.scriptrun\", \"training_percent\": \"100\", \"start_time\": \"2021-02-08T13:05:06.842816Z\", \"end_time\": \"2021-02-08T13:05:59.522695Z\", \"created_time\": \"2021-02-08T13:04:52.69287Z\", \"created_time_dt\": \"2021-02-08T13:04:52.69287Z\", \"duration\": \"0:01:06\", \"iteration\": \"5\", \"goal\": \"accuracy_max\", \"run_name\": \"MinMaxScaler, SVM\", \"run_properties\": \"copy=True, feature_range=(0, 1\", \"primary_metric\": 0.72242938, \"best_metric\": 0.83954802}, {\"run_id\": \"AutoML_1595a0c0-57aa-4749-8bda-bd8ae7747eec_6\", \"run_number\": 11, \"metric\": null, \"status\": \"Completed\", \"run_type\": \"azureml.scriptrun\", \"training_percent\": \"100\", \"start_time\": \"2021-02-08T13:06:15.170779Z\", \"end_time\": \"2021-02-08T13:07:07.51662Z\", \"created_time\": \"2021-02-08T13:06:02.405252Z\", \"created_time_dt\": \"2021-02-08T13:06:02.405252Z\", \"duration\": \"0:01:05\", \"iteration\": \"6\", \"goal\": \"accuracy_max\", \"run_name\": \"MaxAbsScaler, GradientBoosting\", \"run_properties\": \"copy=True\", \"primary_metric\": 0.8259887, \"best_metric\": 0.83954802}, {\"run_id\": \"AutoML_1595a0c0-57aa-4749-8bda-bd8ae7747eec_7\", \"run_number\": 12, \"metric\": null, \"status\": \"Completed\", \"run_type\": \"azureml.scriptrun\", \"training_percent\": \"100\", \"start_time\": \"2021-02-08T13:07:23.60557Z\", \"end_time\": \"2021-02-08T13:08:13.622775Z\", \"created_time\": \"2021-02-08T13:07:11.070125Z\", \"created_time_dt\": \"2021-02-08T13:07:11.070125Z\", \"duration\": \"0:01:02\", \"iteration\": \"7\", \"goal\": \"accuracy_max\", \"run_name\": \"StandardScalerWrapper, RandomForest\", \"run_properties\": \"<azureml.automl.runtime.shared.model_wrappers.StandardScalerWrapper object at 0x7f266c179da0\", \"primary_metric\": 0.8259322, \"best_metric\": 0.83954802}, {\"run_id\": \"AutoML_1595a0c0-57aa-4749-8bda-bd8ae7747eec_8\", \"run_number\": 13, \"metric\": null, \"status\": \"Completed\", \"run_type\": \"azureml.scriptrun\", \"training_percent\": \"100\", \"start_time\": \"2021-02-08T13:08:28.073277Z\", \"end_time\": \"2021-02-08T13:09:27.830181Z\", \"created_time\": \"2021-02-08T13:08:16.169889Z\", \"created_time_dt\": \"2021-02-08T13:08:16.169889Z\", \"duration\": \"0:01:11\", \"iteration\": \"8\", \"goal\": \"accuracy_max\", \"run_name\": \"SparseNormalizer, XGBoostClassifier\", \"run_properties\": \"<azureml.automl.runtime.shared.model_wrappers.SparseNormalizer object at 0x7fee7a7e5160\", \"primary_metric\": 0.84960452, \"best_metric\": 0.84960452}, {\"run_id\": \"AutoML_1595a0c0-57aa-4749-8bda-bd8ae7747eec_9\", \"run_number\": 14, \"metric\": null, \"status\": \"Completed\", \"run_type\": \"azureml.scriptrun\", \"training_percent\": \"100\", \"start_time\": \"2021-02-08T13:09:46.212995Z\", \"end_time\": \"2021-02-08T13:10:41.281069Z\", \"created_time\": \"2021-02-08T13:09:31.418389Z\", \"created_time_dt\": \"2021-02-08T13:09:31.418389Z\", \"duration\": \"0:01:09\", \"iteration\": \"9\", \"goal\": \"accuracy_max\", \"run_name\": \"SparseNormalizer, LightGBM\", \"run_properties\": \"<azureml.automl.runtime.shared.model_wrappers.SparseNormalizer object at 0x7f8fadf9ae48\", \"primary_metric\": 0.7360452, \"best_metric\": 0.84960452}, {\"run_id\": \"AutoML_1595a0c0-57aa-4749-8bda-bd8ae7747eec_10\", \"run_number\": 15, \"metric\": null, \"status\": \"Completed\", \"run_type\": \"azureml.scriptrun\", \"training_percent\": \"100\", \"start_time\": \"2021-02-08T13:10:57.464769Z\", \"end_time\": \"2021-02-08T13:11:48.128706Z\", \"created_time\": \"2021-02-08T13:10:44.774138Z\", \"created_time_dt\": \"2021-02-08T13:10:44.774138Z\", \"duration\": \"0:01:03\", \"iteration\": \"10\", \"goal\": \"accuracy_max\", \"run_name\": \"StandardScalerWrapper, LightGBM\", \"run_properties\": \"<azureml.automl.runtime.shared.model_wrappers.StandardScalerWrapper object at 0x7f558cfff748\", \"primary_metric\": 0.8160452, \"best_metric\": 0.84960452}, {\"run_id\": \"AutoML_1595a0c0-57aa-4749-8bda-bd8ae7747eec_11\", \"run_number\": 16, \"metric\": null, \"status\": \"Completed\", \"run_type\": \"azureml.scriptrun\", \"training_percent\": \"100\", \"start_time\": \"2021-02-08T13:12:03.663637Z\", \"end_time\": \"2021-02-08T13:12:50.668774Z\", \"created_time\": \"2021-02-08T13:11:50.291521Z\", \"created_time_dt\": \"2021-02-08T13:11:50.291521Z\", \"duration\": \"0:01:00\", \"iteration\": \"11\", \"goal\": \"accuracy_max\", \"run_name\": \"RobustScaler, ExtremeRandomTrees\", \"run_properties\": \"copy=True, quantile_range=[25, 75], with_centering=True,\\n             with_scaling=False\", \"primary_metric\": 0.84615819, \"best_metric\": 0.84960452}, {\"run_id\": \"AutoML_1595a0c0-57aa-4749-8bda-bd8ae7747eec_12\", \"run_number\": 17, \"metric\": null, \"status\": \"Completed\", \"run_type\": \"azureml.scriptrun\", \"training_percent\": \"100\", \"start_time\": \"2021-02-08T13:13:06.375639Z\", \"end_time\": \"2021-02-08T13:14:07.985613Z\", \"created_time\": \"2021-02-08T13:12:53.728099Z\", \"created_time_dt\": \"2021-02-08T13:12:53.728099Z\", \"duration\": \"0:01:14\", \"iteration\": \"12\", \"goal\": \"accuracy_max\", \"run_name\": \"StandardScalerWrapper, LightGBM\", \"run_properties\": \"<azureml.automl.runtime.shared.model_wrappers.StandardScalerWrapper object at 0x7fc4a353edd8\", \"primary_metric\": 0.83265537, \"best_metric\": 0.84960452}, {\"run_id\": \"AutoML_1595a0c0-57aa-4749-8bda-bd8ae7747eec_13\", \"run_number\": 18, \"metric\": null, \"status\": \"Completed\", \"run_type\": \"azureml.scriptrun\", \"training_percent\": \"100\", \"start_time\": \"2021-02-08T13:14:25.890257Z\", \"end_time\": \"2021-02-08T13:15:12.73192Z\", \"created_time\": \"2021-02-08T13:14:10.915035Z\", \"created_time_dt\": \"2021-02-08T13:14:10.915035Z\", \"duration\": \"0:01:01\", \"iteration\": \"13\", \"goal\": \"accuracy_max\", \"run_name\": \"StandardScalerWrapper, RandomForest\", \"run_properties\": \"<azureml.automl.runtime.shared.model_wrappers.StandardScalerWrapper object at 0x7f80d289d940\", \"primary_metric\": 0.82265537, \"best_metric\": 0.84960452}, {\"run_id\": \"AutoML_1595a0c0-57aa-4749-8bda-bd8ae7747eec_14\", \"run_number\": 19, \"metric\": null, \"status\": \"Completed\", \"run_type\": \"azureml.scriptrun\", \"training_percent\": \"100\", \"start_time\": \"2021-02-08T13:15:28.668232Z\", \"end_time\": \"2021-02-08T13:16:19.812205Z\", \"created_time\": \"2021-02-08T13:15:15.870807Z\", \"created_time_dt\": \"2021-02-08T13:15:15.870807Z\", \"duration\": \"0:01:03\", \"iteration\": \"14\", \"goal\": \"accuracy_max\", \"run_name\": \"MaxAbsScaler, LightGBM\", \"run_properties\": \"copy=True\", \"primary_metric\": 0.8460452, \"best_metric\": 0.84960452}, {\"run_id\": \"AutoML_1595a0c0-57aa-4749-8bda-bd8ae7747eec_15\", \"run_number\": 20, \"metric\": null, \"status\": \"Completed\", \"run_type\": \"azureml.scriptrun\", \"training_percent\": \"100\", \"start_time\": \"2021-02-08T13:16:36.188599Z\", \"end_time\": \"2021-02-08T13:17:36.947253Z\", \"created_time\": \"2021-02-08T13:16:23.020033Z\", \"created_time_dt\": \"2021-02-08T13:16:23.020033Z\", \"duration\": \"0:01:13\", \"iteration\": \"15\", \"goal\": \"accuracy_max\", \"run_name\": \"SparseNormalizer, XGBoostClassifier\", \"run_properties\": \"<azureml.automl.runtime.shared.model_wrappers.SparseNormalizer object at 0x7efe4aa227f0\", \"primary_metric\": 0.84615819, \"best_metric\": 0.84960452}, {\"run_id\": \"AutoML_1595a0c0-57aa-4749-8bda-bd8ae7747eec_16\", \"run_number\": 21, \"metric\": null, \"status\": \"Completed\", \"run_type\": \"azureml.scriptrun\", \"training_percent\": \"100\", \"start_time\": \"2021-02-08T13:17:57.814925Z\", \"end_time\": \"2021-02-08T13:18:46.97668Z\", \"created_time\": \"2021-02-08T13:17:42.898045Z\", \"created_time_dt\": \"2021-02-08T13:17:42.898045Z\", \"duration\": \"0:01:04\", \"iteration\": \"16\", \"goal\": \"accuracy_max\", \"run_name\": \"MinMaxScaler, LightGBM\", \"run_properties\": \"copy=True, feature_range=(0, 1\", \"primary_metric\": 0.8360452, \"best_metric\": 0.84960452}, {\"run_id\": \"AutoML_1595a0c0-57aa-4749-8bda-bd8ae7747eec_17\", \"run_number\": 22, \"metric\": null, \"status\": \"Completed\", \"run_type\": \"azureml.scriptrun\", \"training_percent\": \"100\", \"start_time\": \"2021-02-08T13:19:01.600245Z\", \"end_time\": \"2021-02-08T13:19:53.519887Z\", \"created_time\": \"2021-02-08T13:18:48.826182Z\", \"created_time_dt\": \"2021-02-08T13:18:48.826182Z\", \"duration\": \"0:01:04\", \"iteration\": \"17\", \"goal\": \"accuracy_max\", \"run_name\": \"StandardScalerWrapper, LightGBM\", \"run_properties\": \"<azureml.automl.runtime.shared.model_wrappers.StandardScalerWrapper object at 0x7f88d80ae908\", \"primary_metric\": 0.82937853, \"best_metric\": 0.84960452}, {\"run_id\": \"AutoML_1595a0c0-57aa-4749-8bda-bd8ae7747eec_18\", \"run_number\": 23, \"metric\": null, \"status\": \"Completed\", \"run_type\": \"azureml.scriptrun\", \"training_percent\": \"100\", \"start_time\": \"2021-02-08T13:20:08.532705Z\", \"end_time\": \"2021-02-08T13:21:16.22896Z\", \"created_time\": \"2021-02-08T13:19:55.457747Z\", \"created_time_dt\": \"2021-02-08T13:19:55.457747Z\", \"duration\": \"0:01:20\", \"iteration\": \"18\", \"goal\": \"accuracy_max\", \"run_name\": \"VotingEnsemble\", \"run_properties\": \"classification_labels=None,\\n                              estimators=[('8',\\n                                           Pipeline(memory=None,\\n                                                    steps=[('sparsenormalizer',\\n                                                            <azureml.automl.runtime.shared.model_wrappers.SparseNormalizer object at 0x7fbc09a8ac88>\", \"primary_metric\": 0.87299435, \"best_metric\": 0.87299435}], \"children_metrics\": {\"categories\": [0], \"series\": {\"matthews_correlation\": [{\"categories\": [\"0\", \"1\", \"2\", \"3\", \"4\", \"5\", \"6\", \"7\", \"8\", \"9\", \"10\", \"11\", \"12\", \"13\", \"14\", \"15\", \"16\", \"17\", \"18\"], \"mode\": \"markers\", \"name\": \"matthews_correlation\", \"stepped\": false, \"type\": \"scatter\", \"data\": [0.5628617041183437, 0.6132552509330647, 0.5802635064072131, 0.6341652613587602, 0.6270410786011429, 0.3257663621494853, 0.6012624165487074, 0.5937137262091847, 0.6568903004948619, 0.37006932289245953, 0.577377585520883, 0.6460906041871469, 0.6174019003823129, 0.6008883847384878, 0.6434829400534046, 0.6451955059526496, 0.6313236379592749, 0.6124918481848944, 0.7178992504837837]}, {\"categories\": [\"0\", \"1\", \"2\", \"3\", \"4\", \"5\", \"6\", \"7\", \"8\", \"9\", \"10\", \"11\", \"12\", \"13\", \"14\", \"15\", \"16\", \"17\", \"18\"], \"mode\": \"lines\", \"name\": \"matthews_correlation_max\", \"stepped\": true, \"type\": \"scatter\", \"data\": [0.5628617041183437, 0.6132552509330647, 0.6132552509330647, 0.6341652613587602, 0.6341652613587602, 0.6341652613587602, 0.6341652613587602, 0.6341652613587602, 0.6568903004948619, 0.6568903004948619, 0.6568903004948619, 0.6568903004948619, 0.6568903004948619, 0.6568903004948619, 0.6568903004948619, 0.6568903004948619, 0.6568903004948619, 0.6568903004948619, 0.7178992504837837]}], \"AUC_weighted\": [{\"categories\": [\"0\", \"1\", \"2\", \"3\", \"4\", \"5\", \"6\", \"7\", \"8\", \"9\", \"10\", \"11\", \"12\", \"13\", \"14\", \"15\", \"16\", \"17\", \"18\"], \"mode\": \"markers\", \"name\": \"AUC_weighted\", \"stepped\": false, \"type\": \"scatter\", \"data\": [0.8811331210778885, 0.8929591177556293, 0.906625992063492, 0.8912791389811738, 0.904342400332226, 0.7394446982281285, 0.9047449935400517, 0.9052280131044668, 0.8940481035437431, 0.8303234588409006, 0.8939186277224067, 0.8931916066814323, 0.904734242340347, 0.9023899617017349, 0.9042281976744185, 0.8944780592469546, 0.8978392395717977, 0.9030714977851606, 0.9111852159468439]}, {\"categories\": [\"0\", \"1\", \"2\", \"3\", \"4\", \"5\", \"6\", \"7\", \"8\", \"9\", \"10\", \"11\", \"12\", \"13\", \"14\", \"15\", \"16\", \"17\", \"18\"], \"mode\": \"lines\", \"name\": \"AUC_weighted_max\", \"stepped\": true, \"type\": \"scatter\", \"data\": [0.8811331210778885, 0.8929591177556293, 0.906625992063492, 0.906625992063492, 0.906625992063492, 0.906625992063492, 0.906625992063492, 0.906625992063492, 0.906625992063492, 0.906625992063492, 0.906625992063492, 0.906625992063492, 0.906625992063492, 0.906625992063492, 0.906625992063492, 0.906625992063492, 0.906625992063492, 0.906625992063492, 0.9111852159468439]}], \"log_loss\": [{\"categories\": [\"0\", \"1\", \"2\", \"3\", \"4\", \"5\", \"6\", \"7\", \"8\", \"9\", \"10\", \"11\", \"12\", \"13\", \"14\", \"15\", \"16\", \"17\", \"18\"], \"mode\": \"markers\", \"name\": \"log_loss\", \"stepped\": false, \"type\": \"scatter\", \"data\": [0.5282491261622873, 0.43217688137359717, 0.38944738185824096, 0.40557383475102354, 0.38180997209856693, 0.590194275633076, 0.3782505940823978, 0.40299604722433535, 0.38995629857272407, 0.5184056250785269, 0.4727004574854833, 0.416392506218938, 0.3997407425109225, 0.38467832779658134, 0.4249549102616344, 0.39424331638853444, 0.38714385345595814, 0.40490375309255955, 0.38258586033862263]}, {\"categories\": [\"0\", \"1\", \"2\", \"3\", \"4\", \"5\", \"6\", \"7\", \"8\", \"9\", \"10\", \"11\", \"12\", \"13\", \"14\", \"15\", \"16\", \"17\", \"18\"], \"mode\": \"lines\", \"name\": \"log_loss_min\", \"stepped\": true, \"type\": \"scatter\", \"data\": [0.5282491261622873, 0.43217688137359717, 0.38944738185824096, 0.38944738185824096, 0.38180997209856693, 0.38180997209856693, 0.3782505940823978, 0.3782505940823978, 0.3782505940823978, 0.3782505940823978, 0.3782505940823978, 0.3782505940823978, 0.3782505940823978, 0.3782505940823978, 0.3782505940823978, 0.3782505940823978, 0.3782505940823978, 0.3782505940823978, 0.3782505940823978]}], \"balanced_accuracy\": [{\"categories\": [\"0\", \"1\", \"2\", \"3\", \"4\", \"5\", \"6\", \"7\", \"8\", \"9\", \"10\", \"11\", \"12\", \"13\", \"14\", \"15\", \"16\", \"17\", \"18\"], \"mode\": \"markers\", \"name\": \"balanced_accuracy\", \"stepped\": false, \"type\": \"scatter\", \"data\": [0.7760209025470652, 0.8060125968992248, 0.7881339977851606, 0.7974660852713178, 0.8189846345514951, 0.6418327796234774, 0.7975089977851606, 0.7854256644518272, 0.8112458471760797, 0.6379761904761905, 0.7672155315614617, 0.7913946566998893, 0.8000089977851607, 0.8033977021040976, 0.8090607696566998, 0.8053488372093023, 0.8135209025470653, 0.8020923311184939, 0.8395833333333332]}, {\"categories\": [\"0\", \"1\", \"2\", \"3\", \"4\", \"5\", \"6\", \"7\", \"8\", \"9\", \"10\", \"11\", \"12\", \"13\", \"14\", \"15\", \"16\", \"17\", \"18\"], \"mode\": \"lines\", \"name\": \"balanced_accuracy_max\", \"stepped\": true, \"type\": \"scatter\", \"data\": [0.7760209025470652, 0.8060125968992248, 0.8060125968992248, 0.8060125968992248, 0.8189846345514951, 0.8189846345514951, 0.8189846345514951, 0.8189846345514951, 0.8189846345514951, 0.8189846345514951, 0.8189846345514951, 0.8189846345514951, 0.8189846345514951, 0.8189846345514951, 0.8189846345514951, 0.8189846345514951, 0.8189846345514951, 0.8189846345514951, 0.8395833333333332]}], \"norm_macro_recall\": [{\"categories\": [\"0\", \"1\", \"2\", \"3\", \"4\", \"5\", \"6\", \"7\", \"8\", \"9\", \"10\", \"11\", \"12\", \"13\", \"14\", \"15\", \"16\", \"17\", \"18\"], \"mode\": \"markers\", \"name\": \"norm_macro_recall\", \"stepped\": false, \"type\": \"scatter\", \"data\": [0.5520418050941306, 0.6120251937984496, 0.5762679955703212, 0.5949321705426357, 0.6379692691029901, 0.2836655592469546, 0.5950179955703213, 0.5708513289036545, 0.6224916943521595, 0.275952380952381, 0.5344310631229235, 0.5827893133997785, 0.6000179955703212, 0.6067954042081949, 0.6181215393133997, 0.6106976744186047, 0.6270418050941308, 0.6041846622369877, 0.6791666666666667]}, {\"categories\": [\"0\", \"1\", \"2\", \"3\", \"4\", \"5\", \"6\", \"7\", \"8\", \"9\", \"10\", \"11\", \"12\", \"13\", \"14\", \"15\", \"16\", \"17\", \"18\"], \"mode\": \"lines\", \"name\": \"norm_macro_recall_max\", \"stepped\": true, \"type\": \"scatter\", \"data\": [0.5520418050941306, 0.6120251937984496, 0.6120251937984496, 0.6120251937984496, 0.6379692691029901, 0.6379692691029901, 0.6379692691029901, 0.6379692691029901, 0.6379692691029901, 0.6379692691029901, 0.6379692691029901, 0.6379692691029901, 0.6379692691029901, 0.6379692691029901, 0.6379692691029901, 0.6379692691029901, 0.6379692691029901, 0.6379692691029901, 0.6791666666666667]}], \"weighted_accuracy\": [{\"categories\": [\"0\", \"1\", \"2\", \"3\", \"4\", \"5\", \"6\", \"7\", \"8\", \"9\", \"10\", \"11\", \"12\", \"13\", \"14\", \"15\", \"16\", \"17\", \"18\"], \"mode\": \"markers\", \"name\": \"weighted_accuracy\", \"stepped\": false, \"type\": \"scatter\", \"data\": [0.8252063202764133, 0.8406325321291572, 0.834362463796609, 0.8685665827090091, 0.8409370960542375, 0.7766216361810108, 0.8443820967817055, 0.8527050440128546, 0.876880803619453, 0.8032567402089587, 0.8499213641944703, 0.8828902240231009, 0.8552056261934704, 0.8361676350442643, 0.8714073957752442, 0.8731189342447088, 0.851785333829578, 0.8488826789623214, 0.8957905378029967]}, {\"categories\": [\"0\", \"1\", \"2\", \"3\", \"4\", \"5\", \"6\", \"7\", \"8\", \"9\", \"10\", \"11\", \"12\", \"13\", \"14\", \"15\", \"16\", \"17\", \"18\"], \"mode\": \"lines\", \"name\": \"weighted_accuracy_max\", \"stepped\": true, \"type\": \"scatter\", \"data\": [0.8252063202764133, 0.8406325321291572, 0.8406325321291572, 0.8685665827090091, 0.8685665827090091, 0.8685665827090091, 0.8685665827090091, 0.8685665827090091, 0.876880803619453, 0.876880803619453, 0.876880803619453, 0.8828902240231009, 0.8828902240231009, 0.8828902240231009, 0.8828902240231009, 0.8828902240231009, 0.8828902240231009, 0.8828902240231009, 0.8957905378029967]}], \"recall_score_weighted\": [{\"categories\": [\"0\", \"1\", \"2\", \"3\", \"4\", \"5\", \"6\", \"7\", \"8\", \"9\", \"10\", \"11\", \"12\", \"13\", \"14\", \"15\", \"16\", \"17\", \"18\"], \"mode\": \"markers\", \"name\": \"recall_score_weighted\", \"stepped\": false, \"type\": \"scatter\", \"data\": [0.8059887005649717, 0.8259322033898304, 0.8160451977401131, 0.8395480225988701, 0.8325423728813559, 0.7224293785310734, 0.8259887005649718, 0.8259322033898305, 0.8496045197740113, 0.736045197740113, 0.8160451977401131, 0.8461581920903954, 0.8326553672316385, 0.8226553672316383, 0.8460451977401131, 0.8461581920903954, 0.836045197740113, 0.8293785310734464, 0.872994350282486]}, {\"categories\": [\"0\", \"1\", \"2\", \"3\", \"4\", \"5\", \"6\", \"7\", \"8\", \"9\", \"10\", \"11\", \"12\", \"13\", \"14\", \"15\", \"16\", \"17\", \"18\"], \"mode\": \"lines\", \"name\": \"recall_score_weighted_max\", \"stepped\": true, \"type\": \"scatter\", \"data\": [0.8059887005649717, 0.8259322033898304, 0.8259322033898304, 0.8395480225988701, 0.8395480225988701, 0.8395480225988701, 0.8395480225988701, 0.8395480225988701, 0.8496045197740113, 0.8496045197740113, 0.8496045197740113, 0.8496045197740113, 0.8496045197740113, 0.8496045197740113, 0.8496045197740113, 0.8496045197740113, 0.8496045197740113, 0.8496045197740113, 0.872994350282486]}], \"AUC_micro\": [{\"categories\": [\"0\", \"1\", \"2\", \"3\", \"4\", \"5\", \"6\", \"7\", \"8\", \"9\", \"10\", \"11\", \"12\", \"13\", \"14\", \"15\", \"16\", \"17\", \"18\"], \"mode\": \"markers\", \"name\": \"AUC_micro\", \"stepped\": false, \"type\": \"scatter\", \"data\": [0.8880105014523284, 0.8999905678444892, 0.912199016885314, 0.9047042356921702, 0.9110380478151232, 0.7882019055826869, 0.9115166778384246, 0.9085537201953462, 0.9057792460659453, 0.8328210603594114, 0.8864027259089022, 0.8997436400778831, 0.9082023364933448, 0.9073908519263302, 0.9068671039611861, 0.9027768680775001, 0.9041296881483609, 0.9083671039611861, 0.9137445816974689]}, {\"categories\": [\"0\", \"1\", \"2\", \"3\", \"4\", \"5\", \"6\", \"7\", \"8\", \"9\", \"10\", \"11\", \"12\", \"13\", \"14\", \"15\", \"16\", \"17\", \"18\"], \"mode\": \"lines\", \"name\": \"AUC_micro_max\", \"stepped\": true, \"type\": \"scatter\", \"data\": [0.8880105014523284, 0.8999905678444892, 0.912199016885314, 0.912199016885314, 0.912199016885314, 0.912199016885314, 0.912199016885314, 0.912199016885314, 0.912199016885314, 0.912199016885314, 0.912199016885314, 0.912199016885314, 0.912199016885314, 0.912199016885314, 0.912199016885314, 0.912199016885314, 0.912199016885314, 0.912199016885314, 0.9137445816974689]}], \"precision_score_micro\": [{\"categories\": [\"0\", \"1\", \"2\", \"3\", \"4\", \"5\", \"6\", \"7\", \"8\", \"9\", \"10\", \"11\", \"12\", \"13\", \"14\", \"15\", \"16\", \"17\", \"18\"], \"mode\": \"markers\", \"name\": \"precision_score_micro\", \"stepped\": false, \"type\": \"scatter\", \"data\": [0.8059887005649717, 0.8259322033898304, 0.8160451977401131, 0.8395480225988701, 0.8325423728813559, 0.7224293785310734, 0.8259887005649718, 0.8259322033898305, 0.8496045197740113, 0.736045197740113, 0.8160451977401131, 0.8461581920903954, 0.8326553672316385, 0.8226553672316383, 0.8460451977401131, 0.8461581920903954, 0.836045197740113, 0.8293785310734464, 0.872994350282486]}, {\"categories\": [\"0\", \"1\", \"2\", \"3\", \"4\", \"5\", \"6\", \"7\", \"8\", \"9\", \"10\", \"11\", \"12\", \"13\", \"14\", \"15\", \"16\", \"17\", \"18\"], \"mode\": \"lines\", \"name\": \"precision_score_micro_max\", \"stepped\": true, \"type\": \"scatter\", \"data\": [0.8059887005649717, 0.8259322033898304, 0.8259322033898304, 0.8395480225988701, 0.8395480225988701, 0.8395480225988701, 0.8395480225988701, 0.8395480225988701, 0.8496045197740113, 0.8496045197740113, 0.8496045197740113, 0.8496045197740113, 0.8496045197740113, 0.8496045197740113, 0.8496045197740113, 0.8496045197740113, 0.8496045197740113, 0.8496045197740113, 0.872994350282486]}], \"AUC_macro\": [{\"categories\": [\"0\", \"1\", \"2\", \"3\", \"4\", \"5\", \"6\", \"7\", \"8\", \"9\", \"10\", \"11\", \"12\", \"13\", \"14\", \"15\", \"16\", \"17\", \"18\"], \"mode\": \"markers\", \"name\": \"AUC_macro\", \"stepped\": false, \"type\": \"scatter\", \"data\": [0.8811331210778885, 0.8929591177556295, 0.906625992063492, 0.8912791389811738, 0.904342400332226, 0.7394446982281285, 0.9047449935400517, 0.9052280131044668, 0.8940481035437431, 0.8303234588409006, 0.8939186277224069, 0.8931916066814323, 0.9047342423403469, 0.9023899617017349, 0.9042281976744185, 0.8944780592469547, 0.8978392395717977, 0.9030714977851606, 0.9111852159468439]}, {\"categories\": [\"0\", \"1\", \"2\", \"3\", \"4\", \"5\", \"6\", \"7\", \"8\", \"9\", \"10\", \"11\", \"12\", \"13\", \"14\", \"15\", \"16\", \"17\", \"18\"], \"mode\": \"lines\", \"name\": \"AUC_macro_max\", \"stepped\": true, \"type\": \"scatter\", \"data\": [0.8811331210778885, 0.8929591177556295, 0.906625992063492, 0.906625992063492, 0.906625992063492, 0.906625992063492, 0.906625992063492, 0.906625992063492, 0.906625992063492, 0.906625992063492, 0.906625992063492, 0.906625992063492, 0.906625992063492, 0.906625992063492, 0.906625992063492, 0.906625992063492, 0.906625992063492, 0.906625992063492, 0.9111852159468439]}], \"f1_score_micro\": [{\"categories\": [\"0\", \"1\", \"2\", \"3\", \"4\", \"5\", \"6\", \"7\", \"8\", \"9\", \"10\", \"11\", \"12\", \"13\", \"14\", \"15\", \"16\", \"17\", \"18\"], \"mode\": \"markers\", \"name\": \"f1_score_micro\", \"stepped\": false, \"type\": \"scatter\", \"data\": [0.8059887005649718, 0.8259322033898304, 0.8160451977401131, 0.8395480225988701, 0.8325423728813559, 0.7224293785310734, 0.8259887005649718, 0.8259322033898305, 0.8496045197740113, 0.736045197740113, 0.8160451977401131, 0.8461581920903954, 0.8326553672316385, 0.8226553672316383, 0.8460451977401131, 0.8461581920903954, 0.836045197740113, 0.8293785310734464, 0.872994350282486]}, {\"categories\": [\"0\", \"1\", \"2\", \"3\", \"4\", \"5\", \"6\", \"7\", \"8\", \"9\", \"10\", \"11\", \"12\", \"13\", \"14\", \"15\", \"16\", \"17\", \"18\"], \"mode\": \"lines\", \"name\": \"f1_score_micro_max\", \"stepped\": true, \"type\": \"scatter\", \"data\": [0.8059887005649718, 0.8259322033898304, 0.8259322033898304, 0.8395480225988701, 0.8395480225988701, 0.8395480225988701, 0.8395480225988701, 0.8395480225988701, 0.8496045197740113, 0.8496045197740113, 0.8496045197740113, 0.8496045197740113, 0.8496045197740113, 0.8496045197740113, 0.8496045197740113, 0.8496045197740113, 0.8496045197740113, 0.8496045197740113, 0.872994350282486]}], \"precision_score_weighted\": [{\"categories\": [\"0\", \"1\", \"2\", \"3\", \"4\", \"5\", \"6\", \"7\", \"8\", \"9\", \"10\", \"11\", \"12\", \"13\", \"14\", \"15\", \"16\", \"17\", \"18\"], \"mode\": \"markers\", \"name\": \"precision_score_weighted\", \"stepped\": false, \"type\": \"scatter\", \"data\": [0.8237683758533973, 0.8403871377947292, 0.8284728677478569, 0.8505549654363213, 0.8490228350427736, 0.7336210370675842, 0.8404299061895152, 0.8353782753673398, 0.8634172995690739, 0.7792163027878148, 0.8315673124386462, 0.8589885687772203, 0.8439344285644792, 0.8387345136038522, 0.8531691259234815, 0.8595500654174952, 0.8521985362475807, 0.8431885337243926, 0.8902081485973639]}, {\"categories\": [\"0\", \"1\", \"2\", \"3\", \"4\", \"5\", \"6\", \"7\", \"8\", \"9\", \"10\", \"11\", \"12\", \"13\", \"14\", \"15\", \"16\", \"17\", \"18\"], \"mode\": \"lines\", \"name\": \"precision_score_weighted_max\", \"stepped\": true, \"type\": \"scatter\", \"data\": [0.8237683758533973, 0.8403871377947292, 0.8403871377947292, 0.8505549654363213, 0.8505549654363213, 0.8505549654363213, 0.8505549654363213, 0.8505549654363213, 0.8634172995690739, 0.8634172995690739, 0.8634172995690739, 0.8634172995690739, 0.8634172995690739, 0.8634172995690739, 0.8634172995690739, 0.8634172995690739, 0.8634172995690739, 0.8634172995690739, 0.8902081485973639]}], \"f1_score_weighted\": [{\"categories\": [\"0\", \"1\", \"2\", \"3\", \"4\", \"5\", \"6\", \"7\", \"8\", \"9\", \"10\", \"11\", \"12\", \"13\", \"14\", \"15\", \"16\", \"17\", \"18\"], \"mode\": \"markers\", \"name\": \"f1_score_weighted\", \"stepped\": false, \"type\": \"scatter\", \"data\": [0.8014398448329555, 0.8237396450256732, 0.8130562155544583, 0.8328720305511308, 0.8334001571049539, 0.7011866783049212, 0.8223204875422689, 0.8200935559708601, 0.8445786473037667, 0.6920924975909098, 0.8041176153746544, 0.8368255484252801, 0.8277041636824469, 0.8224772850883388, 0.8414895456242963, 0.8404266222721967, 0.8318656682565821, 0.8256093670697467, 0.8678558481441346]}, {\"categories\": [\"0\", \"1\", \"2\", \"3\", \"4\", \"5\", \"6\", \"7\", \"8\", \"9\", \"10\", \"11\", \"12\", \"13\", \"14\", \"15\", \"16\", \"17\", \"18\"], \"mode\": \"lines\", \"name\": \"f1_score_weighted_max\", \"stepped\": true, \"type\": \"scatter\", \"data\": [0.8014398448329555, 0.8237396450256732, 0.8237396450256732, 0.8328720305511308, 0.8334001571049539, 0.8334001571049539, 0.8334001571049539, 0.8334001571049539, 0.8445786473037667, 0.8445786473037667, 0.8445786473037667, 0.8445786473037667, 0.8445786473037667, 0.8445786473037667, 0.8445786473037667, 0.8445786473037667, 0.8445786473037667, 0.8445786473037667, 0.8678558481441346]}], \"accuracy\": [{\"categories\": [\"0\", \"1\", \"2\", \"3\", \"4\", \"5\", \"6\", \"7\", \"8\", \"9\", \"10\", \"11\", \"12\", \"13\", \"14\", \"15\", \"16\", \"17\", \"18\"], \"mode\": \"markers\", \"name\": \"accuracy\", \"stepped\": false, \"type\": \"scatter\", \"data\": [0.8059887005649717, 0.8259322033898304, 0.8160451977401131, 0.8395480225988701, 0.8325423728813559, 0.7224293785310734, 0.8259887005649718, 0.8259322033898305, 0.8496045197740113, 0.736045197740113, 0.8160451977401131, 0.8461581920903954, 0.8326553672316385, 0.8226553672316383, 0.8460451977401131, 0.8461581920903954, 0.836045197740113, 0.8293785310734464, 0.872994350282486]}, {\"categories\": [\"0\", \"1\", \"2\", \"3\", \"4\", \"5\", \"6\", \"7\", \"8\", \"9\", \"10\", \"11\", \"12\", \"13\", \"14\", \"15\", \"16\", \"17\", \"18\"], \"mode\": \"lines\", \"name\": \"accuracy_max\", \"stepped\": true, \"type\": \"scatter\", \"data\": [0.8059887005649717, 0.8259322033898304, 0.8259322033898304, 0.8395480225988701, 0.8395480225988701, 0.8395480225988701, 0.8395480225988701, 0.8395480225988701, 0.8496045197740113, 0.8496045197740113, 0.8496045197740113, 0.8496045197740113, 0.8496045197740113, 0.8496045197740113, 0.8496045197740113, 0.8496045197740113, 0.8496045197740113, 0.8496045197740113, 0.872994350282486]}], \"average_precision_score_macro\": [{\"categories\": [\"0\", \"1\", \"2\", \"3\", \"4\", \"5\", \"6\", \"7\", \"8\", \"9\", \"10\", \"11\", \"12\", \"13\", \"14\", \"15\", \"16\", \"17\", \"18\"], \"mode\": \"markers\", \"name\": \"average_precision_score_macro\", \"stepped\": false, \"type\": \"scatter\", \"data\": [0.8655792376041671, 0.8826936933050062, 0.8915137104954365, 0.8746411476672685, 0.8908197623458951, 0.7184634262666745, 0.8954301374503999, 0.8914288684246653, 0.8802531433544377, 0.799425832504898, 0.8821896413678351, 0.8821376306414409, 0.8949484146327167, 0.8770191365789992, 0.8949398558279773, 0.8827141677722498, 0.8910741257817303, 0.8895679089778662, 0.8950985017406525]}, {\"categories\": [\"0\", \"1\", \"2\", \"3\", \"4\", \"5\", \"6\", \"7\", \"8\", \"9\", \"10\", \"11\", \"12\", \"13\", \"14\", \"15\", \"16\", \"17\", \"18\"], \"mode\": \"lines\", \"name\": \"average_precision_score_macro_max\", \"stepped\": true, \"type\": \"scatter\", \"data\": [0.8655792376041671, 0.8826936933050062, 0.8915137104954365, 0.8915137104954365, 0.8915137104954365, 0.8915137104954365, 0.8954301374503999, 0.8954301374503999, 0.8954301374503999, 0.8954301374503999, 0.8954301374503999, 0.8954301374503999, 0.8954301374503999, 0.8954301374503999, 0.8954301374503999, 0.8954301374503999, 0.8954301374503999, 0.8954301374503999, 0.8954301374503999]}], \"average_precision_score_micro\": [{\"categories\": [\"0\", \"1\", \"2\", \"3\", \"4\", \"5\", \"6\", \"7\", \"8\", \"9\", \"10\", \"11\", \"12\", \"13\", \"14\", \"15\", \"16\", \"17\", \"18\"], \"mode\": \"markers\", \"name\": \"average_precision_score_micro\", \"stepped\": false, \"type\": \"scatter\", \"data\": [0.887958292631032, 0.9018582931163117, 0.9143556251300172, 0.9040596534176892, 0.913860152375635, 0.7668467796792661, 0.9115379239310716, 0.9132994780728602, 0.9026020432426062, 0.8377483843872803, 0.8877787967043064, 0.9009830449111588, 0.9111581298001014, 0.9097237607125093, 0.909216697909528, 0.9042447745018253, 0.9048185882112945, 0.9106439853092263, 0.9147681357802895]}, {\"categories\": [\"0\", \"1\", \"2\", \"3\", \"4\", \"5\", \"6\", \"7\", \"8\", \"9\", \"10\", \"11\", \"12\", \"13\", \"14\", \"15\", \"16\", \"17\", \"18\"], \"mode\": \"lines\", \"name\": \"average_precision_score_micro_max\", \"stepped\": true, \"type\": \"scatter\", \"data\": [0.887958292631032, 0.9018582931163117, 0.9143556251300172, 0.9143556251300172, 0.9143556251300172, 0.9143556251300172, 0.9143556251300172, 0.9143556251300172, 0.9143556251300172, 0.9143556251300172, 0.9143556251300172, 0.9143556251300172, 0.9143556251300172, 0.9143556251300172, 0.9143556251300172, 0.9143556251300172, 0.9143556251300172, 0.9143556251300172, 0.9147681357802895]}], \"recall_score_micro\": [{\"categories\": [\"0\", \"1\", \"2\", \"3\", \"4\", \"5\", \"6\", \"7\", \"8\", \"9\", \"10\", \"11\", \"12\", \"13\", \"14\", \"15\", \"16\", \"17\", \"18\"], \"mode\": \"markers\", \"name\": \"recall_score_micro\", \"stepped\": false, \"type\": \"scatter\", \"data\": [0.8059887005649717, 0.8259322033898304, 0.8160451977401131, 0.8395480225988701, 0.8325423728813559, 0.7224293785310734, 0.8259887005649718, 0.8259322033898305, 0.8496045197740113, 0.736045197740113, 0.8160451977401131, 0.8461581920903954, 0.8326553672316385, 0.8226553672316383, 0.8460451977401131, 0.8461581920903954, 0.836045197740113, 0.8293785310734464, 0.872994350282486]}, {\"categories\": [\"0\", \"1\", \"2\", \"3\", \"4\", \"5\", \"6\", \"7\", \"8\", \"9\", \"10\", \"11\", \"12\", \"13\", \"14\", \"15\", \"16\", \"17\", \"18\"], \"mode\": \"lines\", \"name\": \"recall_score_micro_max\", \"stepped\": true, \"type\": \"scatter\", \"data\": [0.8059887005649717, 0.8259322033898304, 0.8259322033898304, 0.8395480225988701, 0.8395480225988701, 0.8395480225988701, 0.8395480225988701, 0.8395480225988701, 0.8496045197740113, 0.8496045197740113, 0.8496045197740113, 0.8496045197740113, 0.8496045197740113, 0.8496045197740113, 0.8496045197740113, 0.8496045197740113, 0.8496045197740113, 0.8496045197740113, 0.872994350282486]}], \"precision_score_macro\": [{\"categories\": [\"0\", \"1\", \"2\", \"3\", \"4\", \"5\", \"6\", \"7\", \"8\", \"9\", \"10\", \"11\", \"12\", \"13\", \"14\", \"15\", \"16\", \"17\", \"18\"], \"mode\": \"markers\", \"name\": \"precision_score_macro\", \"stepped\": false, \"type\": \"scatter\", \"data\": [0.7889041743265773, 0.8086642059265495, 0.793379857988749, 0.8398554223554224, 0.8089825295298901, 0.6917792059648329, 0.8054985619516511, 0.8098978508654376, 0.848492463658258, 0.7693400768179093, 0.8145149307214524, 0.8596770186335403, 0.8190090010719058, 0.7988925452954945, 0.8355654079460381, 0.8425044946309667, 0.8200378108888747, 0.8122532189273273, 0.8821446882460562]}, {\"categories\": [\"0\", \"1\", \"2\", \"3\", \"4\", \"5\", \"6\", \"7\", \"8\", \"9\", \"10\", \"11\", \"12\", \"13\", \"14\", \"15\", \"16\", \"17\", \"18\"], \"mode\": \"lines\", \"name\": \"precision_score_macro_max\", \"stepped\": true, \"type\": \"scatter\", \"data\": [0.7889041743265773, 0.8086642059265495, 0.8086642059265495, 0.8398554223554224, 0.8398554223554224, 0.8398554223554224, 0.8398554223554224, 0.8398554223554224, 0.848492463658258, 0.848492463658258, 0.848492463658258, 0.8596770186335403, 0.8596770186335403, 0.8596770186335403, 0.8596770186335403, 0.8596770186335403, 0.8596770186335403, 0.8596770186335403, 0.8821446882460562]}], \"f1_score_macro\": [{\"categories\": [\"0\", \"1\", \"2\", \"3\", \"4\", \"5\", \"6\", \"7\", \"8\", \"9\", \"10\", \"11\", \"12\", \"13\", \"14\", \"15\", \"16\", \"17\", \"18\"], \"mode\": \"markers\", \"name\": \"f1_score_macro\", \"stepped\": false, \"type\": \"scatter\", \"data\": [0.7682096405971308, 0.7972526241921125, 0.780906574353234, 0.8043748711182369, 0.8058371149544901, 0.636063741029464, 0.789867650080416, 0.7865195794239769, 0.8161275803155832, 0.6252048522662619, 0.7695891912830867, 0.806339821053897, 0.7983400661454317, 0.7917580633611979, 0.8136400838443922, 0.8101538122371454, 0.8035693807983076, 0.7956235504288897, 0.8448627762891684]}, {\"categories\": [\"0\", \"1\", \"2\", \"3\", \"4\", \"5\", \"6\", \"7\", \"8\", \"9\", \"10\", \"11\", \"12\", \"13\", \"14\", \"15\", \"16\", \"17\", \"18\"], \"mode\": \"lines\", \"name\": \"f1_score_macro_max\", \"stepped\": true, \"type\": \"scatter\", \"data\": [0.7682096405971308, 0.7972526241921125, 0.7972526241921125, 0.8043748711182369, 0.8058371149544901, 0.8058371149544901, 0.8058371149544901, 0.8058371149544901, 0.8161275803155832, 0.8161275803155832, 0.8161275803155832, 0.8161275803155832, 0.8161275803155832, 0.8161275803155832, 0.8161275803155832, 0.8161275803155832, 0.8161275803155832, 0.8161275803155832, 0.8448627762891684]}], \"average_precision_score_weighted\": [{\"categories\": [\"0\", \"1\", \"2\", \"3\", \"4\", \"5\", \"6\", \"7\", \"8\", \"9\", \"10\", \"11\", \"12\", \"13\", \"14\", \"15\", \"16\", \"17\", \"18\"], \"mode\": \"markers\", \"name\": \"average_precision_score_weighted\", \"stepped\": false, \"type\": \"scatter\", \"data\": [0.8955370396295249, 0.9103506263314479, 0.9183448146154587, 0.9036167982588438, 0.9175369020896147, 0.7675756738587173, 0.918603970670787, 0.9188544894251072, 0.9044364305652293, 0.8458920762759519, 0.9058607560878091, 0.9066097193654972, 0.9181596860653727, 0.9098684516156412, 0.9182639428948713, 0.9085203702370863, 0.9147323219325832, 0.9159062069514639, 0.9201996934522068]}, {\"categories\": [\"0\", \"1\", \"2\", \"3\", \"4\", \"5\", \"6\", \"7\", \"8\", \"9\", \"10\", \"11\", \"12\", \"13\", \"14\", \"15\", \"16\", \"17\", \"18\"], \"mode\": \"lines\", \"name\": \"average_precision_score_weighted_max\", \"stepped\": true, \"type\": \"scatter\", \"data\": [0.8955370396295249, 0.9103506263314479, 0.9183448146154587, 0.9183448146154587, 0.9183448146154587, 0.9183448146154587, 0.918603970670787, 0.9188544894251072, 0.9188544894251072, 0.9188544894251072, 0.9188544894251072, 0.9188544894251072, 0.9188544894251072, 0.9188544894251072, 0.9188544894251072, 0.9188544894251072, 0.9188544894251072, 0.9188544894251072, 0.9201996934522068]}], \"recall_score_macro\": [{\"categories\": [\"0\", \"1\", \"2\", \"3\", \"4\", \"5\", \"6\", \"7\", \"8\", \"9\", \"10\", \"11\", \"12\", \"13\", \"14\", \"15\", \"16\", \"17\", \"18\"], \"mode\": \"markers\", \"name\": \"recall_score_macro\", \"stepped\": false, \"type\": \"scatter\", \"data\": [0.7760209025470652, 0.8060125968992248, 0.7881339977851606, 0.7974660852713178, 0.8189846345514951, 0.6418327796234774, 0.7975089977851606, 0.7854256644518272, 0.8112458471760797, 0.6379761904761905, 0.7672155315614617, 0.7913946566998893, 0.8000089977851607, 0.8033977021040976, 0.8090607696566998, 0.8053488372093023, 0.8135209025470653, 0.8020923311184939, 0.8395833333333332]}, {\"categories\": [\"0\", \"1\", \"2\", \"3\", \"4\", \"5\", \"6\", \"7\", \"8\", \"9\", \"10\", \"11\", \"12\", \"13\", \"14\", \"15\", \"16\", \"17\", \"18\"], \"mode\": \"lines\", \"name\": \"recall_score_macro_max\", \"stepped\": true, \"type\": \"scatter\", \"data\": [0.7760209025470652, 0.8060125968992248, 0.8060125968992248, 0.8060125968992248, 0.8189846345514951, 0.8189846345514951, 0.8189846345514951, 0.8189846345514951, 0.8189846345514951, 0.8189846345514951, 0.8189846345514951, 0.8189846345514951, 0.8189846345514951, 0.8189846345514951, 0.8189846345514951, 0.8189846345514951, 0.8189846345514951, 0.8189846345514951, 0.8395833333333332]}]}, \"metricName\": null, \"primaryMetricName\": \"accuracy\", \"showLegend\": false}, \"run_metrics\": [{\"name\": \"experiment_status\", \"run_id\": \"AutoML_1595a0c0-57aa-4749-8bda-bd8ae7747eec\", \"categories\": [0, 1, 2, 3, 4, 5, 6, 7, 8, 9, 10, 11, 12, 13], \"series\": [{\"data\": [\"DatasetEvaluation\", \"FeaturesGeneration\", \"DatasetFeaturization\", \"DatasetFeaturizationCompleted\", \"DatasetCrossValidationSplit\", \"ModelSelection\", \"BestRunExplainModel\", \"ModelExplanationDataSetSetup\", \"PickSurrogateModel\", \"EngineeredFeatureExplanations\", \"EngineeredFeatureExplanations\", \"RawFeaturesExplanations\", \"RawFeaturesExplanations\", \"BestRunExplainModel\"]}]}, {\"name\": \"experiment_status_description\", \"run_id\": \"AutoML_1595a0c0-57aa-4749-8bda-bd8ae7747eec\", \"categories\": [0, 1, 2, 3, 4, 5, 6, 7, 8, 9, 10, 11, 12, 13], \"series\": [{\"data\": [\"Gathering dataset statistics.\", \"Generating features for the dataset.\", \"Beginning to fit featurizers and featurize the dataset.\", \"Completed fit featurizers and featurizing the dataset.\", \"Generating individually featurized CV splits.\", \"Beginning model selection.\", \"Best run model explanations started\", \"Model explanations data setup completed\", \"Choosing LightGBM as the surrogate model for explanations\", \"Computation of engineered features started\", \"Computation of engineered features completed\", \"Computation of raw features started\", \"Computation of raw features completed\", \"Best run model explanations completed\"]}]}, {\"name\": \"f1_score_weighted\", \"run_id\": \"AutoML_1595a0c0-57aa-4749-8bda-bd8ae7747eec\", \"categories\": [0], \"series\": [{\"data\": [0.8678558481441346]}]}, {\"name\": \"precision_score_micro\", \"run_id\": \"AutoML_1595a0c0-57aa-4749-8bda-bd8ae7747eec\", \"categories\": [0], \"series\": [{\"data\": [0.872994350282486]}]}, {\"name\": \"precision_score_weighted\", \"run_id\": \"AutoML_1595a0c0-57aa-4749-8bda-bd8ae7747eec\", \"categories\": [0], \"series\": [{\"data\": [0.8902081485973639]}]}, {\"name\": \"accuracy\", \"run_id\": \"AutoML_1595a0c0-57aa-4749-8bda-bd8ae7747eec\", \"categories\": [0], \"series\": [{\"data\": [0.872994350282486]}]}, {\"name\": \"AUC_micro\", \"run_id\": \"AutoML_1595a0c0-57aa-4749-8bda-bd8ae7747eec\", \"categories\": [0], \"series\": [{\"data\": [0.9137445816974689]}]}, {\"name\": \"f1_score_micro\", \"run_id\": \"AutoML_1595a0c0-57aa-4749-8bda-bd8ae7747eec\", \"categories\": [0], \"series\": [{\"data\": [0.872994350282486]}]}, {\"name\": \"recall_score_micro\", \"run_id\": \"AutoML_1595a0c0-57aa-4749-8bda-bd8ae7747eec\", \"categories\": [0], \"series\": [{\"data\": [0.872994350282486]}]}, {\"name\": \"matthews_correlation\", \"run_id\": \"AutoML_1595a0c0-57aa-4749-8bda-bd8ae7747eec\", \"categories\": [0], \"series\": [{\"data\": [0.7178992504837837]}]}, {\"name\": \"average_precision_score_weighted\", \"run_id\": \"AutoML_1595a0c0-57aa-4749-8bda-bd8ae7747eec\", \"categories\": [0], \"series\": [{\"data\": [0.9201996934522068]}]}, {\"name\": \"AUC_weighted\", \"run_id\": \"AutoML_1595a0c0-57aa-4749-8bda-bd8ae7747eec\", \"categories\": [0], \"series\": [{\"data\": [0.9111852159468439]}]}, {\"name\": \"AUC_macro\", \"run_id\": \"AutoML_1595a0c0-57aa-4749-8bda-bd8ae7747eec\", \"categories\": [0], \"series\": [{\"data\": [0.9111852159468439]}]}, {\"name\": \"f1_score_macro\", \"run_id\": \"AutoML_1595a0c0-57aa-4749-8bda-bd8ae7747eec\", \"categories\": [0], \"series\": [{\"data\": [0.8448627762891684]}]}, {\"name\": \"recall_score_weighted\", \"run_id\": \"AutoML_1595a0c0-57aa-4749-8bda-bd8ae7747eec\", \"categories\": [0], \"series\": [{\"data\": [0.872994350282486]}]}, {\"name\": \"norm_macro_recall\", \"run_id\": \"AutoML_1595a0c0-57aa-4749-8bda-bd8ae7747eec\", \"categories\": [0], \"series\": [{\"data\": [0.6791666666666667]}]}, {\"name\": \"average_precision_score_macro\", \"run_id\": \"AutoML_1595a0c0-57aa-4749-8bda-bd8ae7747eec\", \"categories\": [0], \"series\": [{\"data\": [0.8950985017406525]}]}, {\"name\": \"average_precision_score_micro\", \"run_id\": \"AutoML_1595a0c0-57aa-4749-8bda-bd8ae7747eec\", \"categories\": [0], \"series\": [{\"data\": [0.9147681357802895]}]}, {\"name\": \"balanced_accuracy\", \"run_id\": \"AutoML_1595a0c0-57aa-4749-8bda-bd8ae7747eec\", \"categories\": [0], \"series\": [{\"data\": [0.8395833333333332]}]}, {\"name\": \"precision_score_macro\", \"run_id\": \"AutoML_1595a0c0-57aa-4749-8bda-bd8ae7747eec\", \"categories\": [0], \"series\": [{\"data\": [0.8821446882460562]}]}, {\"name\": \"recall_score_macro\", \"run_id\": \"AutoML_1595a0c0-57aa-4749-8bda-bd8ae7747eec\", \"categories\": [0], \"series\": [{\"data\": [0.8395833333333332]}]}, {\"name\": \"weighted_accuracy\", \"run_id\": \"AutoML_1595a0c0-57aa-4749-8bda-bd8ae7747eec\", \"categories\": [0], \"series\": [{\"data\": [0.8957905378029967]}]}, {\"name\": \"log_loss\", \"run_id\": \"AutoML_1595a0c0-57aa-4749-8bda-bd8ae7747eec\", \"categories\": [0], \"series\": [{\"data\": [0.38258586033862263]}]}], \"run_logs\": \"\\nRun is completed.\", \"graph\": {}, \"widget_settings\": {\"childWidgetDisplay\": \"popup\", \"send_telemetry\": false, \"log_level\": \"INFO\", \"sdk_version\": \"1.20.0\"}, \"loading\": false}"
     },
     "metadata": {},
     "output_type": "display_data"
    }
   ],
   "source": [
    "RunDetails(remote_run).show()"
   ]
  },
  {
   "cell_type": "code",
   "execution_count": 8,
   "metadata": {
    "gather": {
     "logged": 1612790805973
    }
   },
   "outputs": [
    {
     "data": {
      "text/plain": [
       "{'runId': 'AutoML_1595a0c0-57aa-4749-8bda-bd8ae7747eec',\n",
       " 'target': 'MK-1B08-CC',\n",
       " 'status': 'Completed',\n",
       " 'startTimeUtc': '2021-02-08T12:51:16.127066Z',\n",
       " 'endTimeUtc': '2021-02-08T13:21:20.928017Z',\n",
       " 'properties': {'num_iterations': '1000',\n",
       "  'training_type': 'TrainFull',\n",
       "  'acquisition_function': 'EI',\n",
       "  'primary_metric': 'accuracy',\n",
       "  'train_split': '0',\n",
       "  'acquisition_parameter': '0',\n",
       "  'num_cross_validation': '5',\n",
       "  'target': 'MK-1B08-CC',\n",
       "  'AMLSettingsJsonString': '{\"path\":null,\"name\":\"MK-1B08-AutoML\",\"subscription_id\":\"a0a76bad-11a1-4a2d-9887-97a29122c8ed\",\"resource_group\":\"aml-quickstarts-138139\",\"workspace_name\":\"quick-starts-ws-138139\",\"region\":\"southcentralus\",\"compute_target\":\"MK-1B08-CC\",\"spark_service\":null,\"azure_service\":\"remote\",\"many_models\":false,\"pipeline_fetch_max_batch_size\":1,\"iterations\":1000,\"primary_metric\":\"accuracy\",\"task_type\":\"classification\",\"data_script\":null,\"validation_size\":0.0,\"n_cross_validations\":5,\"y_min\":null,\"y_max\":null,\"num_classes\":null,\"featurization\":\"auto\",\"_ignore_package_version_incompatibilities\":false,\"is_timeseries\":false,\"max_cores_per_iteration\":1,\"max_concurrent_iterations\":1,\"iteration_timeout_minutes\":null,\"mem_in_mb\":null,\"enforce_time_on_windows\":false,\"experiment_timeout_minutes\":20,\"experiment_exit_score\":null,\"whitelist_models\":null,\"blacklist_algos\":[\"TensorFlowLinearClassifier\",\"TensorFlowDNN\"],\"supported_models\":[\"TensorFlowDNN\",\"MultinomialNaiveBayes\",\"RandomForest\",\"LogisticRegression\",\"AveragedPerceptronClassifier\",\"SVM\",\"LightGBM\",\"XGBoostClassifier\",\"LinearSVM\",\"BernoulliNaiveBayes\",\"KNN\",\"TensorFlowLinearClassifier\",\"ExtremeRandomTrees\",\"SGD\",\"GradientBoosting\",\"DecisionTree\"],\"auto_blacklist\":true,\"blacklist_samples_reached\":false,\"exclude_nan_labels\":true,\"verbosity\":20,\"_debug_log\":\"azureml_automl.log\",\"show_warnings\":false,\"model_explainability\":true,\"service_url\":null,\"sdk_url\":null,\"sdk_packages\":null,\"enable_onnx_compatible_models\":true,\"enable_split_onnx_featurizer_estimator_models\":false,\"vm_type\":\"STANDARD_D2_V2\",\"telemetry_verbosity\":20,\"send_telemetry\":true,\"enable_dnn\":false,\"scenario\":\"SDK-1.13.0\",\"environment_label\":null,\"force_text_dnn\":false,\"enable_feature_sweeping\":false,\"enable_early_stopping\":true,\"early_stopping_n_iters\":10,\"metrics\":null,\"enable_ensembling\":true,\"enable_stack_ensembling\":false,\"ensemble_iterations\":15,\"enable_tf\":false,\"enable_subsampling\":null,\"subsample_seed\":null,\"enable_nimbusml\":false,\"enable_streaming\":false,\"force_streaming\":false,\"track_child_runs\":true,\"allowed_private_models\":[],\"label_column_name\":\"DEATH_EVENT\",\"weight_column_name\":null,\"cv_split_column_names\":null,\"enable_local_managed\":false,\"_local_managed_run_id\":null,\"cost_mode\":1,\"lag_length\":0,\"metric_operation\":\"maximize\",\"preprocess\":true}',\n",
       "  'DataPrepJsonString': '{\\\\\"training_data\\\\\": \\\\\"{\\\\\\\\\\\\\"blocks\\\\\\\\\\\\\": [{\\\\\\\\\\\\\"id\\\\\\\\\\\\\": \\\\\\\\\\\\\"7d08c3b5-a354-4571-a54f-b2e8dffab97f\\\\\\\\\\\\\", \\\\\\\\\\\\\"type\\\\\\\\\\\\\": \\\\\\\\\\\\\"Microsoft.DPrep.GetFilesBlock\\\\\\\\\\\\\", \\\\\\\\\\\\\"arguments\\\\\\\\\\\\\": {\\\\\\\\\\\\\"isArchive\\\\\\\\\\\\\": false, \\\\\\\\\\\\\"path\\\\\\\\\\\\\": {\\\\\\\\\\\\\"target\\\\\\\\\\\\\": 4, \\\\\\\\\\\\\"resourceDetails\\\\\\\\\\\\\": [{\\\\\\\\\\\\\"path\\\\\\\\\\\\\": \\\\\\\\\\\\\"https://raw.githubusercontent.com/MaheshKhatri1960/Udacity-Capstone-Project/master/heart_failure_clinical_records_dataset.csv\\\\\\\\\\\\\"}]}}, \\\\\\\\\\\\\"localData\\\\\\\\\\\\\": {}, \\\\\\\\\\\\\"isEnabled\\\\\\\\\\\\\": true, \\\\\\\\\\\\\"name\\\\\\\\\\\\\": null, \\\\\\\\\\\\\"annotation\\\\\\\\\\\\\": null}, {\\\\\\\\\\\\\"id\\\\\\\\\\\\\": \\\\\\\\\\\\\"cbe1156f-e452-4050-9709-8eb26749550d\\\\\\\\\\\\\", \\\\\\\\\\\\\"type\\\\\\\\\\\\\": \\\\\\\\\\\\\"Microsoft.DPrep.ParseDelimitedBlock\\\\\\\\\\\\\", \\\\\\\\\\\\\"arguments\\\\\\\\\\\\\": {\\\\\\\\\\\\\"columnHeadersMode\\\\\\\\\\\\\": 1, \\\\\\\\\\\\\"fileEncoding\\\\\\\\\\\\\": 0, \\\\\\\\\\\\\"handleQuotedLineBreaks\\\\\\\\\\\\\": false, \\\\\\\\\\\\\"preview\\\\\\\\\\\\\": false, \\\\\\\\\\\\\"separator\\\\\\\\\\\\\": \\\\\\\\\\\\\",\\\\\\\\\\\\\", \\\\\\\\\\\\\"skipRows\\\\\\\\\\\\\": 0, \\\\\\\\\\\\\"skipRowsMode\\\\\\\\\\\\\": 0}, \\\\\\\\\\\\\"localData\\\\\\\\\\\\\": {}, \\\\\\\\\\\\\"isEnabled\\\\\\\\\\\\\": true, \\\\\\\\\\\\\"name\\\\\\\\\\\\\": null, \\\\\\\\\\\\\"annotation\\\\\\\\\\\\\": null}, {\\\\\\\\\\\\\"id\\\\\\\\\\\\\": \\\\\\\\\\\\\"c3fe7a33-79ac-42c8-880d-4192c0aadc0b\\\\\\\\\\\\\", \\\\\\\\\\\\\"type\\\\\\\\\\\\\": \\\\\\\\\\\\\"Microsoft.DPrep.DropColumnsBlock\\\\\\\\\\\\\", \\\\\\\\\\\\\"arguments\\\\\\\\\\\\\": {\\\\\\\\\\\\\"columns\\\\\\\\\\\\\": {\\\\\\\\\\\\\"type\\\\\\\\\\\\\": 0, \\\\\\\\\\\\\"details\\\\\\\\\\\\\": {\\\\\\\\\\\\\"selectedColumns\\\\\\\\\\\\\": [\\\\\\\\\\\\\"Path\\\\\\\\\\\\\"]}}}, \\\\\\\\\\\\\"localData\\\\\\\\\\\\\": {}, \\\\\\\\\\\\\"isEnabled\\\\\\\\\\\\\": true, \\\\\\\\\\\\\"name\\\\\\\\\\\\\": null, \\\\\\\\\\\\\"annotation\\\\\\\\\\\\\": null}, {\\\\\\\\\\\\\"id\\\\\\\\\\\\\": \\\\\\\\\\\\\"05037d3e-c49b-4c78-9fa1-2553dc1be3f3\\\\\\\\\\\\\", \\\\\\\\\\\\\"type\\\\\\\\\\\\\": \\\\\\\\\\\\\"Microsoft.DPrep.SetColumnTypesBlock\\\\\\\\\\\\\", \\\\\\\\\\\\\"arguments\\\\\\\\\\\\\": {\\\\\\\\\\\\\"columnConversion\\\\\\\\\\\\\": [{\\\\\\\\\\\\\"column\\\\\\\\\\\\\": {\\\\\\\\\\\\\"type\\\\\\\\\\\\\": 2, \\\\\\\\\\\\\"details\\\\\\\\\\\\\": {\\\\\\\\\\\\\"selectedColumn\\\\\\\\\\\\\": \\\\\\\\\\\\\"Path\\\\\\\\\\\\\"}}, \\\\\\\\\\\\\"typeProperty\\\\\\\\\\\\\": 0}, {\\\\\\\\\\\\\"column\\\\\\\\\\\\\": {\\\\\\\\\\\\\"type\\\\\\\\\\\\\": 2, \\\\\\\\\\\\\"details\\\\\\\\\\\\\": {\\\\\\\\\\\\\"selectedColumn\\\\\\\\\\\\\": \\\\\\\\\\\\\"age\\\\\\\\\\\\\"}}, \\\\\\\\\\\\\"typeProperty\\\\\\\\\\\\\": 3}, {\\\\\\\\\\\\\"column\\\\\\\\\\\\\": {\\\\\\\\\\\\\"type\\\\\\\\\\\\\": 2, \\\\\\\\\\\\\"details\\\\\\\\\\\\\": {\\\\\\\\\\\\\"selectedColumn\\\\\\\\\\\\\": \\\\\\\\\\\\\"anaemia\\\\\\\\\\\\\"}}, \\\\\\\\\\\\\"typeProperty\\\\\\\\\\\\\": 2}, {\\\\\\\\\\\\\"column\\\\\\\\\\\\\": {\\\\\\\\\\\\\"type\\\\\\\\\\\\\": 2, \\\\\\\\\\\\\"details\\\\\\\\\\\\\": {\\\\\\\\\\\\\"selectedColumn\\\\\\\\\\\\\": \\\\\\\\\\\\\"creatinine_phosphokinase\\\\\\\\\\\\\"}}, \\\\\\\\\\\\\"typeProperty\\\\\\\\\\\\\": 2}, {\\\\\\\\\\\\\"column\\\\\\\\\\\\\": {\\\\\\\\\\\\\"type\\\\\\\\\\\\\": 2, \\\\\\\\\\\\\"details\\\\\\\\\\\\\": {\\\\\\\\\\\\\"selectedColumn\\\\\\\\\\\\\": \\\\\\\\\\\\\"diabetes\\\\\\\\\\\\\"}}, \\\\\\\\\\\\\"typeProperty\\\\\\\\\\\\\": 2}, {\\\\\\\\\\\\\"column\\\\\\\\\\\\\": {\\\\\\\\\\\\\"type\\\\\\\\\\\\\": 2, \\\\\\\\\\\\\"details\\\\\\\\\\\\\": {\\\\\\\\\\\\\"selectedColumn\\\\\\\\\\\\\": \\\\\\\\\\\\\"ejection_fraction\\\\\\\\\\\\\"}}, \\\\\\\\\\\\\"typeProperty\\\\\\\\\\\\\": 2}, {\\\\\\\\\\\\\"column\\\\\\\\\\\\\": {\\\\\\\\\\\\\"type\\\\\\\\\\\\\": 2, \\\\\\\\\\\\\"details\\\\\\\\\\\\\": {\\\\\\\\\\\\\"selectedColumn\\\\\\\\\\\\\": \\\\\\\\\\\\\"high_blood_pressure\\\\\\\\\\\\\"}}, \\\\\\\\\\\\\"typeProperty\\\\\\\\\\\\\": 2}, {\\\\\\\\\\\\\"column\\\\\\\\\\\\\": {\\\\\\\\\\\\\"type\\\\\\\\\\\\\": 2, \\\\\\\\\\\\\"details\\\\\\\\\\\\\": {\\\\\\\\\\\\\"selectedColumn\\\\\\\\\\\\\": \\\\\\\\\\\\\"platelets\\\\\\\\\\\\\"}}, \\\\\\\\\\\\\"typeProperty\\\\\\\\\\\\\": 3}, {\\\\\\\\\\\\\"column\\\\\\\\\\\\\": {\\\\\\\\\\\\\"type\\\\\\\\\\\\\": 2, \\\\\\\\\\\\\"details\\\\\\\\\\\\\": {\\\\\\\\\\\\\"selectedColumn\\\\\\\\\\\\\": \\\\\\\\\\\\\"serum_creatinine\\\\\\\\\\\\\"}}, \\\\\\\\\\\\\"typeProperty\\\\\\\\\\\\\": 3}, {\\\\\\\\\\\\\"column\\\\\\\\\\\\\": {\\\\\\\\\\\\\"type\\\\\\\\\\\\\": 2, \\\\\\\\\\\\\"details\\\\\\\\\\\\\": {\\\\\\\\\\\\\"selectedColumn\\\\\\\\\\\\\": \\\\\\\\\\\\\"serum_sodium\\\\\\\\\\\\\"}}, \\\\\\\\\\\\\"typeProperty\\\\\\\\\\\\\": 2}, {\\\\\\\\\\\\\"column\\\\\\\\\\\\\": {\\\\\\\\\\\\\"type\\\\\\\\\\\\\": 2, \\\\\\\\\\\\\"details\\\\\\\\\\\\\": {\\\\\\\\\\\\\"selectedColumn\\\\\\\\\\\\\": \\\\\\\\\\\\\"sex\\\\\\\\\\\\\"}}, \\\\\\\\\\\\\"typeProperty\\\\\\\\\\\\\": 2}, {\\\\\\\\\\\\\"column\\\\\\\\\\\\\": {\\\\\\\\\\\\\"type\\\\\\\\\\\\\": 2, \\\\\\\\\\\\\"details\\\\\\\\\\\\\": {\\\\\\\\\\\\\"selectedColumn\\\\\\\\\\\\\": \\\\\\\\\\\\\"smoking\\\\\\\\\\\\\"}}, \\\\\\\\\\\\\"typeProperty\\\\\\\\\\\\\": 2}, {\\\\\\\\\\\\\"column\\\\\\\\\\\\\": {\\\\\\\\\\\\\"type\\\\\\\\\\\\\": 2, \\\\\\\\\\\\\"details\\\\\\\\\\\\\": {\\\\\\\\\\\\\"selectedColumn\\\\\\\\\\\\\": \\\\\\\\\\\\\"time\\\\\\\\\\\\\"}}, \\\\\\\\\\\\\"typeProperty\\\\\\\\\\\\\": 2}, {\\\\\\\\\\\\\"column\\\\\\\\\\\\\": {\\\\\\\\\\\\\"type\\\\\\\\\\\\\": 2, \\\\\\\\\\\\\"details\\\\\\\\\\\\\": {\\\\\\\\\\\\\"selectedColumn\\\\\\\\\\\\\": \\\\\\\\\\\\\"DEATH_EVENT\\\\\\\\\\\\\"}}, \\\\\\\\\\\\\"typeProperty\\\\\\\\\\\\\": 2}]}, \\\\\\\\\\\\\"localData\\\\\\\\\\\\\": {}, \\\\\\\\\\\\\"isEnabled\\\\\\\\\\\\\": true, \\\\\\\\\\\\\"name\\\\\\\\\\\\\": null, \\\\\\\\\\\\\"annotation\\\\\\\\\\\\\": null}], \\\\\\\\\\\\\"inspectors\\\\\\\\\\\\\": [], \\\\\\\\\\\\\"meta\\\\\\\\\\\\\": {\\\\\\\\\\\\\"savedDatasetId\\\\\\\\\\\\\": \\\\\\\\\\\\\"e3e7c995-148c-4e36-b565-8e64bbf04d50\\\\\\\\\\\\\", \\\\\\\\\\\\\"datasetType\\\\\\\\\\\\\": \\\\\\\\\\\\\"tabular\\\\\\\\\\\\\", \\\\\\\\\\\\\"subscriptionId\\\\\\\\\\\\\": \\\\\\\\\\\\\"a0a76bad-11a1-4a2d-9887-97a29122c8ed\\\\\\\\\\\\\", \\\\\\\\\\\\\"workspaceId\\\\\\\\\\\\\": \\\\\\\\\\\\\"be1d8ec8-754e-49a7-b08d-ffc161aebe15\\\\\\\\\\\\\", \\\\\\\\\\\\\"workspaceLocation\\\\\\\\\\\\\": \\\\\\\\\\\\\"southcentralus\\\\\\\\\\\\\"}}\\\\\", \\\\\"activities\\\\\": 0}',\n",
       "  'EnableSubsampling': None,\n",
       "  'runTemplate': 'AutoML',\n",
       "  'azureml.runsource': 'automl',\n",
       "  'display_task_type': 'classification',\n",
       "  'dependencies_versions': '{\"azureml-widgets\": \"1.20.0\", \"azureml-train\": \"1.20.0\", \"azureml-train-restclients-hyperdrive\": \"1.20.0\", \"azureml-train-core\": \"1.20.0\", \"azureml-train-automl\": \"1.20.0\", \"azureml-train-automl-runtime\": \"1.20.0\", \"azureml-train-automl-client\": \"1.20.0\", \"azureml-tensorboard\": \"1.20.0\", \"azureml-telemetry\": \"1.20.0\", \"azureml-sdk\": \"1.20.0\", \"azureml-samples\": \"0+unknown\", \"azureml-pipeline\": \"1.20.0\", \"azureml-pipeline-steps\": \"1.20.0\", \"azureml-pipeline-core\": \"1.20.0\", \"azureml-opendatasets\": \"1.20.0\", \"azureml-model-management-sdk\": \"1.0.1b6.post1\", \"azureml-mlflow\": \"1.20.0.post1\", \"azureml-interpret\": \"1.20.0\", \"azureml-explain-model\": \"1.20.0\", \"azureml-defaults\": \"1.20.0\", \"azureml-dataset-runtime\": \"1.20.0\", \"azureml-dataprep\": \"2.7.3\", \"azureml-dataprep-rslex\": \"1.5.0\", \"azureml-dataprep-native\": \"27.0.0\", \"azureml-datadrift\": \"1.20.0\", \"azureml-core\": \"1.20.0\", \"azureml-contrib-services\": \"1.20.0\", \"azureml-contrib-server\": \"1.20.0\", \"azureml-contrib-reinforcementlearning\": \"1.20.0\", \"azureml-contrib-pipeline-steps\": \"1.20.0\", \"azureml-contrib-notebook\": \"1.20.0\", \"azureml-contrib-interpret\": \"1.20.0\", \"azureml-contrib-gbdt\": \"1.20.0\", \"azureml-contrib-fairness\": \"1.20.0\", \"azureml-contrib-dataset\": \"1.20.0\", \"azureml-cli-common\": \"1.20.0\", \"azureml-automl-runtime\": \"1.20.0\", \"azureml-automl-core\": \"1.20.0\", \"azureml-accel-models\": \"1.20.0\"}',\n",
       "  '_aml_system_scenario_identification': 'Remote.Parent',\n",
       "  'ClientType': 'SDK',\n",
       "  'environment_cpu_name': 'AzureML-AutoML',\n",
       "  'environment_cpu_label': 'prod',\n",
       "  'environment_gpu_name': 'AzureML-AutoML-GPU',\n",
       "  'environment_gpu_label': 'prod',\n",
       "  'root_attribution': 'automl',\n",
       "  'attribution': 'AutoML',\n",
       "  'Orchestrator': 'AutoML',\n",
       "  'CancelUri': 'https://southcentralus.experiments.azureml.net/jasmine/v1.0/subscriptions/a0a76bad-11a1-4a2d-9887-97a29122c8ed/resourceGroups/aml-quickstarts-138139/providers/Microsoft.MachineLearningServices/workspaces/quick-starts-ws-138139/experimentids/7779bcf7-7058-463d-9d7a-80ab2c94f0b2/cancel/AutoML_1595a0c0-57aa-4749-8bda-bd8ae7747eec',\n",
       "  'ClientSdkVersion': '1.21.0',\n",
       "  'snapshotId': '00000000-0000-0000-0000-000000000000',\n",
       "  'SetupRunId': 'AutoML_1595a0c0-57aa-4749-8bda-bd8ae7747eec_setup',\n",
       "  'SetupRunContainerId': 'dcid.AutoML_1595a0c0-57aa-4749-8bda-bd8ae7747eec_setup',\n",
       "  'FeaturizationRunJsonPath': 'featurizer_container.json',\n",
       "  'FeaturizationRunId': 'AutoML_1595a0c0-57aa-4749-8bda-bd8ae7747eec_featurize',\n",
       "  'ProblemInfoJsonString': '{\"dataset_num_categorical\": 0, \"is_sparse\": false, \"subsampling\": false, \"dataset_classes\": 2, \"dataset_features\": 12, \"dataset_samples\": 299, \"single_frequency_class_detected\": false}',\n",
       "  'ModelExplainRunId': 'AutoML_1595a0c0-57aa-4749-8bda-bd8ae7747eec_ModelExplain'},\n",
       " 'inputDatasets': [{'dataset': {'id': 'e3e7c995-148c-4e36-b565-8e64bbf04d50'}, 'consumptionDetails': {'type': 'RunInput', 'inputName': 'training_data', 'mechanism': 'Direct'}}],\n",
       " 'outputDatasets': [],\n",
       " 'logFiles': {},\n",
       " 'submittedBy': 'ODL_User 138139'}"
      ]
     },
     "execution_count": 8,
     "metadata": {},
     "output_type": "execute_result"
    }
   ],
   "source": [
    "remote_run.wait_for_completion()"
   ]
  },
  {
   "cell_type": "markdown",
   "metadata": {},
   "source": [
    "## Best Model\n",
    "\n",
    "TODO: In the cell below, get the best model from the automl experiments and display all the properties of the model.\n",
    "\n"
   ]
  },
  {
   "cell_type": "code",
   "execution_count": 9,
   "metadata": {
    "gather": {
     "logged": 1612790933967
    },
    "jupyter": {
     "outputs_hidden": false,
     "source_hidden": false
    },
    "nteract": {
     "transient": {
      "deleting": false
     }
    }
   },
   "outputs": [
    {
     "name": "stderr",
     "output_type": "stream",
     "text": [
      "WARNING:root:The version of the SDK does not match the version the model was trained on.\n",
      "WARNING:root:The consistency in the result may not be guaranteed.\n",
      "WARNING:root:Package:azureml-automl-core, training version:1.21.0, current version:1.20.0\n",
      "Package:azureml-automl-runtime, training version:1.21.0, current version:1.20.0\n",
      "Package:azureml-core, training version:1.21.0.post1, current version:1.20.0\n",
      "Package:azureml-dataprep, training version:2.8.2, current version:2.7.3\n",
      "Package:azureml-dataprep-native, training version:28.0.0, current version:27.0.0\n",
      "Package:azureml-dataprep-rslex, training version:1.6.0, current version:1.5.0\n",
      "Package:azureml-dataset-runtime, training version:1.21.0, current version:1.20.0\n",
      "Package:azureml-defaults, training version:1.21.0, current version:1.20.0\n",
      "Package:azureml-interpret, training version:1.21.0, current version:1.20.0\n",
      "Package:azureml-pipeline-core, training version:1.21.0, current version:1.20.0\n",
      "Package:azureml-telemetry, training version:1.21.0, current version:1.20.0\n",
      "Package:azureml-train-automl-client, training version:1.21.0, current version:1.20.0\n",
      "Package:azureml-train-automl-runtime, training version:1.21.0, current version:1.20.0\n",
      "WARNING:root:Please ensure the version of your local conda dependencies match the version on which your model was trained in order to properly retrieve your model.\n"
     ]
    },
    {
     "name": "stdout",
     "output_type": "stream",
     "text": [
      "Run(Experiment: MK-1B08-AutoML,\n",
      "Id: AutoML_1595a0c0-57aa-4749-8bda-bd8ae7747eec_18,\n",
      "Type: azureml.scriptrun,\n",
      "Status: Completed)\n",
      "Pipeline(memory=None,\n",
      "         steps=[('datatransformer',\n",
      "                 DataTransformer(enable_dnn=None, enable_feature_sweeping=None,\n",
      "                                 feature_sweeping_config=None,\n",
      "                                 feature_sweeping_timeout=None,\n",
      "                                 featurization_config=None, force_text_dnn=None,\n",
      "                                 is_cross_validation=None,\n",
      "                                 is_onnx_compatible=None, logger=None,\n",
      "                                 observer=None, task=None, working_dir=None)),\n",
      "                ('prefittedsoftvotingclassifier',...\n",
      "                                                                                                    max_leaf_nodes=None,\n",
      "                                                                                                    max_samples=None,\n",
      "                                                                                                    min_impurity_decrease=0.0,\n",
      "                                                                                                    min_impurity_split=None,\n",
      "                                                                                                    min_samples_leaf=0.035789473684210524,\n",
      "                                                                                                    min_samples_split=0.01,\n",
      "                                                                                                    min_weight_fraction_leaf=0.0,\n",
      "                                                                                                    n_estimators=10,\n",
      "                                                                                                    n_jobs=1,\n",
      "                                                                                                    oob_score=True,\n",
      "                                                                                                    random_state=None,\n",
      "                                                                                                    verbose=0,\n",
      "                                                                                                    warm_start=False))],\n",
      "                                                                     verbose=False))],\n",
      "                                               flatten_transform=None,\n",
      "                                               weights=[0.2, 0.4, 0.1, 0.1,\n",
      "                                                        0.2]))],\n",
      "         verbose=False)\n",
      "{'AUC_weighted': 0.9111852159468439, 'log_loss': 0.38258586033862263, 'AUC_micro': 0.9137445816974689, 'average_precision_score_weighted': 0.9201996934522068, 'recall_score_macro': 0.8395833333333332, 'average_precision_score_macro': 0.8950985017406525, 'balanced_accuracy': 0.8395833333333332, 'matthews_correlation': 0.7178992504837837, 'average_precision_score_micro': 0.9147681357802895, 'AUC_macro': 0.9111852159468439, 'precision_score_weighted': 0.8902081485973639, 'f1_score_micro': 0.872994350282486, 'accuracy': 0.872994350282486, 'f1_score_weighted': 0.8678558481441346, 'precision_score_macro': 0.8821446882460562, 'weighted_accuracy': 0.8957905378029967, 'precision_score_micro': 0.872994350282486, 'recall_score_micro': 0.872994350282486, 'recall_score_weighted': 0.872994350282486, 'norm_macro_recall': 0.6791666666666667, 'f1_score_macro': 0.8448627762891684, 'accuracy_table': 'aml://artifactId/ExperimentRun/dcid.AutoML_1595a0c0-57aa-4749-8bda-bd8ae7747eec_18/accuracy_table', 'confusion_matrix': 'aml://artifactId/ExperimentRun/dcid.AutoML_1595a0c0-57aa-4749-8bda-bd8ae7747eec_18/confusion_matrix'}\n",
      "[['VotingEnsemble', 1, 0.872994350282486], ['LightGBM', 7, 0.8460451977401131], ['XGBoostClassifier', 3, 0.8496045197740113], ['RandomForest', 5, 0.8395480225988701], ['ExtremeRandomTrees', 1, 0.8461581920903954], ['GradientBoosting', 1, 0.8259887005649718], ['SVM', 1, 0.7224293785310734]]\n"
     ]
    }
   ],
   "source": [
    "# Retrieve and save your best automl model.\n",
    "\n",
    "### YOUR CODE HERE ###\n",
    "# https://docs.microsoft.com/en-us/azure/machine-learning/tutorial-auto-train-models\n",
    "    \n",
    "best_run, fitted_model = remote_run.get_output()\n",
    "onnx_model= remote_run.get_output(return_onnx_model=True)\n",
    "\n",
    "print(best_run)\n",
    "print(fitted_model)\n",
    "best_run_metrics = best_run.get_metrics()\n",
    "print(best_run_metrics)\n",
    "print(remote_run.summary())\n"
   ]
  },
  {
   "cell_type": "code",
   "execution_count": 10,
   "metadata": {
    "gather": {
     "logged": 1612707531506
    }
   },
   "outputs": [
    {
     "data": {
      "text/plain": [
       "['fitted_model.joblib']"
      ]
     },
     "execution_count": 10,
     "metadata": {},
     "output_type": "execute_result"
    }
   ],
   "source": [
    "joblib.dump(fitted_model,\"fitted_model.joblib\")"
   ]
  },
  {
   "cell_type": "code",
   "execution_count": 10,
   "metadata": {
    "gather": {
     "logged": 1612790960407
    }
   },
   "outputs": [
    {
     "name": "stdout",
     "output_type": "stream",
     "text": [
      "Model saved successfully\n"
     ]
    }
   ],
   "source": [
    "#TODO: Save the best model\n",
    "os.makedirs('outputs', exist_ok=True)\n",
    "joblib.dump(fitted_model, filename=\"outputs/best_automl_model.pkl\")\n",
    "print(\"Model saved successfully\")"
   ]
  },
  {
   "cell_type": "markdown",
   "metadata": {},
   "source": [
    "## Model Deployment\n",
    "\n",
    "Remember you have to deploy only one of the two models you trained.. Perform the steps in the rest of this notebook only if you wish to deploy this model.\n",
    "\n",
    "TODO: In the cell below, register the model, create an inference config and deploy the model as a web service."
   ]
  },
  {
   "cell_type": "code",
   "execution_count": 11,
   "metadata": {
    "gather": {
     "logged": 1612790998367
    },
    "jupyter": {
     "outputs_hidden": false,
     "source_hidden": false
    },
    "nteract": {
     "transient": {
      "deleting": false
     }
    }
   },
   "outputs": [
    {
     "name": "stdout",
     "output_type": "stream",
     "text": [
      "Registering model best-automl-model\n",
      "Model(workspace=Workspace.create(name='quick-starts-ws-138139', subscription_id='a0a76bad-11a1-4a2d-9887-97a29122c8ed', resource_group='aml-quickstarts-138139'), name=best-automl-model, id=best-automl-model:1, version=1, tags={}, properties={})\n",
      "best-automl-model\tbest-automl-model:1\t1\n"
     ]
    }
   ],
   "source": [
    "from azureml.automl.core.shared import constants\n",
    "model = Model.register(workspace=ws,model_name = \"best-automl-model\", model_path = './outputs/best_automl_model.pkl')\n",
    "#, tags={'Method':'AutoML'}, properties={'accuracy': best_run_metrics('accuracy')})\n",
    "\n",
    "best_run.download_file(constants.CONDA_ENV_FILE_PATH, 'myenv.yml')\n",
    "\n",
    "print(model)\n",
    "\n",
    "print(model.name, model.id, model.version, sep='\\t')\n"
   ]
  },
  {
   "cell_type": "code",
   "execution_count": null,
   "metadata": {},
   "outputs": [],
   "source": [
    "# MK-1A30 - Reminder - score.py to be loaded before the next cell"
   ]
  },
  {
   "cell_type": "code",
   "execution_count": 12,
   "metadata": {
    "gather": {
     "logged": 1612792162658
    }
   },
   "outputs": [
    {
     "name": "stdout",
     "output_type": "stream",
     "text": [
      "Tips: You can try get_logs(): https://aka.ms/debugimage#dockerlog or local deployment: https://aka.ms/debugimage#debug-locally to debug if deployment takes longer than 10 minutes.\n",
      "Running.................................................................................................................................................................................................\n",
      "Succeeded\n",
      "ACI service creation operation finished, operation \"Succeeded\"\n"
     ]
    }
   ],
   "source": [
    "env = Environment.from_conda_specification('myenv', 'myenv.yml')\n",
    "inference_config = InferenceConfig(entry_script='score.py', environment=env)\n",
    "\n",
    "aci_config = AciWebservice.deploy_configuration(cpu_cores=1, memory_gb=1, auth_enabled=True,tags = {'name':'Heart Failure Prediction-AML'},description='Heart failure prediction model',enable_app_insights = True)\n",
    "deployed_web_service = model.deploy(workspace=ws,name=\"automl-deploy-2\",models=[model],inference_config=inference_config,deployment_config=aci_config)\n",
    "\n",
    "deployed_web_service.wait_for_deployment(show_output=True)\n"
   ]
  },
  {
   "cell_type": "markdown",
   "metadata": {
    "collapsed": true,
    "gather": {
     "logged": 1598431657736
    },
    "jupyter": {
     "outputs_hidden": false,
     "source_hidden": false
    },
    "nteract": {
     "transient": {
      "deleting": false
     }
    }
   },
   "source": [
    "TODO: In the cell below, send a request to the web service you deployed to test it."
   ]
  },
  {
   "cell_type": "code",
   "execution_count": 13,
   "metadata": {
    "gather": {
     "logged": 1612792387584
    }
   },
   "outputs": [
    {
     "name": "stdout",
     "output_type": "stream",
     "text": [
      "Healthy\n"
     ]
    }
   ],
   "source": [
    "print(deployed_web_service.state)"
   ]
  },
  {
   "cell_type": "code",
   "execution_count": 14,
   "metadata": {
    "gather": {
     "logged": 1612792405499
    }
   },
   "outputs": [
    {
     "name": "stdout",
     "output_type": "stream",
     "text": [
      "Deployed Web Service Scoring URI is http://358af297-9c19-45ca-b6d5-7da0ec0010d3.southcentralus.azurecontainer.io/score\n",
      "Deployed Web Service Scoring URI Authenticaltion Authetication Key: 3XrD5YQXRD1Kkbb0xijWhUBcsV4heNiU\n"
     ]
    }
   ],
   "source": [
    "deployed_web_service_uri = deployed_web_service.scoring_uri\n",
    "deployed_web_service_key = deployed_web_service.get_keys()[0]\n",
    "print(\"Deployed Web Service Scoring URI is \" + deployed_web_service_uri)\n",
    "print(\"Deployed Web Service Scoring URI Authenticaltion Authetication Key: \" + deployed_web_service_key)\n"
   ]
  },
  {
   "cell_type": "code",
   "execution_count": 20,
   "metadata": {
    "gather": {
     "logged": 1612795821189
    }
   },
   "outputs": [
    {
     "name": "stdout",
     "output_type": "stream",
     "text": [
      "prediction  \"{\\\"result\\\": [1]}\"\n",
      "prediction  \"{\\\"result\\\": [0]}\"\n"
     ]
    }
   ],
   "source": [
    "input_data_point_1 = {\n",
    "  \"data\": [\n",
    "    {\n",
    "                  'age': 55.0, \n",
    "                  'anaemia': 0.0, \n",
    "                  'creatinine_phosphokinase': 7861.0,\n",
    "                  'diabetes': 0.0,\n",
    "                  'ejection_fraction': 38.0,\n",
    "                  'high_blood_pressure': 0.0,\n",
    "                  'platelets': 263358.03,\n",
    "                  'serum_creatinine': 1.1,\n",
    "                  'serum_sodium': 136.0,\n",
    "                  'sex': 1.0,\n",
    "                  'smoking': 0.0,\n",
    "                  'time': 6.0\n",
    "    }\n",
    " ]\n",
    "}\n",
    "\n",
    "input_data = json.dumps(input_data_point_1)\n",
    "output = deployed_web_service.run(input_data)\n",
    "\n",
    "headers = {'Content-Type': 'application/json'}\n",
    "headers['Authorization'] = f'Bearer {deployed_web_service_key}'\n",
    "\n",
    "resp = requests.post(deployed_web_service_uri, input_data, headers=headers)\n",
    "print(\"prediction \", resp.text)\n",
    "\n",
    "\n",
    "input_data_point_2 = {\n",
    "  \"data\": [\n",
    "    {\n",
    "                  'age': 49.0, \n",
    "                  'anaemia': 1.0, \n",
    "                  'creatinine_phosphokinase': 80.0,\n",
    "                  'diabetes': 0.0,\n",
    "                  'ejection_fraction': 30.0,\n",
    "                  'high_blood_pressure': 1.0,\n",
    "                  'platelets': 427000.0,\n",
    "                  'serum_creatinine': 1.0,\n",
    "                  'serum_sodium': 138.0,\n",
    "                  'sex': 0.0,\n",
    "                  'smoking': 0.0,\n",
    "                  'time': 12.0\n",
    "    }\n",
    " ]\n",
    "}\n",
    "\n",
    "\n",
    "input_data = json.dumps(input_data_point_2)\n",
    "output = deployed_web_service.run(input_data)\n",
    "\n",
    "headers = {'Content-Type': 'application/json'}\n",
    "headers['Authorization'] = f'Bearer {deployed_web_service_key}'\n",
    "\n",
    "resp = requests.post(deployed_web_service_uri, input_data, headers=headers)\n",
    "print(\"prediction \", resp.text)\n",
    "\n"
   ]
  },
  {
   "cell_type": "code",
   "execution_count": 21,
   "metadata": {
    "gather": {
     "logged": 1612795835842
    }
   },
   "outputs": [
    {
     "name": "stdout",
     "output_type": "stream",
     "text": [
      "{\"result\": [1, 1]}\n"
     ]
    }
   ],
   "source": [
    "import json\n",
    "\n",
    "data = {\"data\":\n",
    "        [\n",
    "          {\n",
    "            \"age\": 36,\n",
    "            \"anaemia\": 0,\n",
    "            \"creatinine_phosphokinase\": 200,\n",
    "            \"diabetes\": 0,\n",
    "            \"ejection_fraction\": 30,\n",
    "            \"high_blood_pressure\": 0,\n",
    "            \"platelets\": 120000,\n",
    "            \"serum_creatinine\": 1.1,\n",
    "            \"serum_sodium\": 135,\n",
    "            \"sex\": 1,\n",
    "            \"smoking\": 0,\n",
    "            \"time\": 7\n",
    "          },\n",
    "          {\n",
    "            \"age\": 39,\n",
    "            \"anaemia\": 0,\n",
    "            \"creatinine_phosphokinase\": 300,\n",
    "            \"diabetes\": 0,\n",
    "            \"ejection_fraction\": 50,\n",
    "            \"high_blood_pressure\": 0,\n",
    "            \"platelets\": 200000,\n",
    "            \"serum_creatinine\": 0.9,\n",
    "            \"serum_sodium\": 250,\n",
    "            \"sex\": 0,\n",
    "            \"smoking\": 0,\n",
    "            \"time\": 1\n",
    "          }\n",
    "      ]\n",
    "    }\n",
    "\n",
    "input_payload = json.dumps(data)\n",
    "\n",
    "output = deployed_web_service.run(input_payload)\n",
    "\n",
    "print(output)"
   ]
  },
  {
   "cell_type": "markdown",
   "metadata": {
    "collapsed": true,
    "gather": {
     "logged": 1598432765711
    },
    "jupyter": {
     "outputs_hidden": false,
     "source_hidden": false
    },
    "nteract": {
     "transient": {
      "deleting": false
     }
    }
   },
   "source": [
    "TODO: In the cell below, print the logs of the web service and delete the service"
   ]
  },
  {
   "cell_type": "code",
   "execution_count": 17,
   "metadata": {
    "gather": {
     "logged": 1612792907686
    },
    "jupyter": {
     "outputs_hidden": false,
     "source_hidden": false
    },
    "nteract": {
     "transient": {
      "deleting": false
     }
    }
   },
   "outputs": [
    {
     "name": "stdout",
     "output_type": "stream",
     "text": [
      "2021-02-08T13:49:09,977352069+00:00 - iot-server/run \n",
      "2021-02-08T13:49:09,977747075+00:00 - rsyslog/run \n",
      "2021-02-08T13:49:09,979560204+00:00 - gunicorn/run \n",
      "/usr/sbin/nginx: /azureml-envs/azureml_7785023fceb74e4facc1b1a577b1faf9/lib/libcrypto.so.1.0.0: no version information available (required by /usr/sbin/nginx)\n",
      "/usr/sbin/nginx: /azureml-envs/azureml_7785023fceb74e4facc1b1a577b1faf9/lib/libcrypto.so.1.0.0: no version information available (required by /usr/sbin/nginx)\n",
      "/usr/sbin/nginx: /azureml-envs/azureml_7785023fceb74e4facc1b1a577b1faf9/lib/libssl.so.1.0.0: no version information available (required by /usr/sbin/nginx)\n",
      "/usr/sbin/nginx: /azureml-envs/azureml_7785023fceb74e4facc1b1a577b1faf9/lib/libssl.so.1.0.0: no version information available (required by /usr/sbin/nginx)\n",
      "/usr/sbin/nginx: /azureml-envs/azureml_7785023fceb74e4facc1b1a577b1faf9/lib/libssl.so.1.0.0: no version information available (required by /usr/sbin/nginx)\n",
      "2021-02-08T13:49:09,981899141+00:00 - nginx/run \n",
      "rsyslogd: /azureml-envs/azureml_7785023fceb74e4facc1b1a577b1faf9/lib/libuuid.so.1: no version information available (required by rsyslogd)\n",
      "EdgeHubConnectionString and IOTEDGE_IOTHUBHOSTNAME are not set. Exiting...\n",
      "2021-02-08T13:49:10,120968146+00:00 - iot-server/finish 1 0\n",
      "2021-02-08T13:49:10,122621872+00:00 - Exit code 1 is normal. Not restarting iot-server.\n",
      "Starting gunicorn 19.9.0\n",
      "Listening at: http://127.0.0.1:31311 (14)\n",
      "Using worker: sync\n",
      "worker timeout is set to 300\n",
      "Booting worker with pid: 42\n",
      "SPARK_HOME not set. Skipping PySpark Initialization.\n",
      "Generating new fontManager, this may take some time...\n",
      "Initializing logger\n",
      "2021-02-08 13:49:12,811 | root | INFO | Starting up app insights client\n",
      "2021-02-08 13:49:12,812 | root | INFO | Starting up request id generator\n",
      "2021-02-08 13:49:12,812 | root | INFO | Starting up app insight hooks\n",
      "2021-02-08 13:49:12,812 | root | INFO | Invoking user's init function\n",
      "azureml-models/best-automl-model/1/best_automl_model.pkl\n",
      "2021-02-08 13:49:13,955 | root | INFO | Users's init has completed successfully\n",
      "2021-02-08 13:49:13,988 | root | INFO | Skipping middleware: dbg_model_info as it's not enabled.\n",
      "2021-02-08 13:49:13,988 | root | INFO | Skipping middleware: dbg_resource_usage as it's not enabled.\n",
      "2021-02-08 13:49:13,990 | root | INFO | Scoring timeout is found from os.environ: 60000 ms\n",
      "2021-02-08 13:49:19,047 | root | INFO | 200\n",
      "127.0.0.1 - - [08/Feb/2021:13:49:19 +0000] \"GET /swagger.json HTTP/1.0\" 200 2860 \"-\" \"Go-http-client/1.1\"\n",
      "2021-02-08 13:49:22,474 | root | INFO | 200\n",
      "127.0.0.1 - - [08/Feb/2021:13:49:22 +0000] \"GET /swagger.json HTTP/1.0\" 200 2860 \"-\" \"Go-http-client/1.1\"\n",
      "2021-02-08 13:49:58,208 | root | INFO | 200\n",
      "127.0.0.1 - - [08/Feb/2021:13:49:58 +0000] \"GET /swagger.json HTTP/1.0\" 200 2860 \"-\" \"Go-http-client/1.1\"\n",
      "2021-02-08 13:49:58,511 | root | INFO | 200\n",
      "127.0.0.1 - - [08/Feb/2021:13:49:58 +0000] \"GET /swagger.json HTTP/1.0\" 200 2860 \"-\" \"Go-http-client/1.1\"\n",
      "2021-02-08 13:52:29,058 | root | INFO | 200\n",
      "127.0.0.1 - - [08/Feb/2021:13:52:29 +0000] \"GET /swagger.json HTTP/1.0\" 200 2860 \"-\" \"Go-http-client/1.1\"\n",
      "2021-02-08 13:52:29,455 | root | INFO | 200\n",
      "127.0.0.1 - - [08/Feb/2021:13:52:29 +0000] \"GET /swagger.json HTTP/1.0\" 200 2860 \"-\" \"Go-http-client/1.1\"\n",
      "2021-02-08 13:56:39,380 | root | INFO | 200\n",
      "127.0.0.1 - - [08/Feb/2021:13:56:39 +0000] \"GET /swagger.json HTTP/1.0\" 200 2860 \"-\" \"Go-http-client/1.1\"\n",
      "2021-02-08 13:56:39,765 | root | INFO | 200\n",
      "127.0.0.1 - - [08/Feb/2021:13:56:39 +0000] \"GET /swagger.json HTTP/1.0\" 200 2860 \"-\" \"Go-http-client/1.1\"\n",
      "2021-02-08 13:58:11,367 | root | INFO | Validation Request Content-Type\n",
      "2021-02-08 13:58:11,367 | root | INFO | Scoring Timer is set to 60.0 seconds\n",
      "2021-02-08 13:58:11,427 | root | INFO | 200\n",
      "127.0.0.1 - - [08/Feb/2021:13:58:11 +0000] \"POST /score HTTP/1.0\" 200 19 \"-\" \"python-requests/2.25.1\"\n",
      "2021-02-08 13:58:11,490 | root | INFO | Validation Request Content-Type\n",
      "2021-02-08 13:58:11,491 | root | INFO | Scoring Timer is set to 60.0 seconds\n",
      "2021-02-08 13:58:11,703 | root | INFO | 200\n",
      "127.0.0.1 - - [08/Feb/2021:13:58:11 +0000] \"POST /score HTTP/1.0\" 200 19 \"-\" \"python-requests/2.25.1\"\n",
      "2021-02-08 13:58:11,712 | root | INFO | Validation Request Content-Type\n",
      "2021-02-08 13:58:11,713 | root | INFO | Scoring Timer is set to 60.0 seconds\n",
      "2021-02-08 13:58:12,001 | root | INFO | 200\n",
      "127.0.0.1 - - [08/Feb/2021:13:58:11 +0000] \"POST /score HTTP/1.0\" 200 19 \"-\" \"python-requests/2.25.1\"\n",
      "2021-02-08 13:58:12,087 | root | INFO | Validation Request Content-Type\n",
      "2021-02-08 13:58:12,087 | root | INFO | Scoring Timer is set to 60.0 seconds\n",
      "2021-02-08 13:58:12,288 | root | INFO | 200\n",
      "127.0.0.1 - - [08/Feb/2021:13:58:12 +0000] \"POST /score HTTP/1.0\" 200 19 \"-\" \"python-requests/2.25.1\"\n",
      "2021-02-08 13:58:52,580 | root | INFO | Validation Request Content-Type\n",
      "2021-02-08 13:58:52,581 | root | INFO | Scoring Timer is set to 60.0 seconds\n",
      "2021-02-08 13:58:52,645 | root | INFO | 200\n",
      "127.0.0.1 - - [08/Feb/2021:13:58:52 +0000] \"POST /score HTTP/1.0\" 200 22 \"-\" \"python-requests/2.25.1\"\n",
      "2021-02-08 13:59:19,544 | root | INFO | 200\n",
      "127.0.0.1 - - [08/Feb/2021:13:59:19 +0000] \"GET /swagger.json HTTP/1.0\" 200 2860 \"-\" \"Go-http-client/1.1\"\n",
      "2021-02-08 13:59:20,078 | root | INFO | 200\n",
      "127.0.0.1 - - [08/Feb/2021:13:59:20 +0000] \"GET /swagger.json HTTP/1.0\" 200 2860 \"-\" \"Go-http-client/1.1\"\n",
      "\n"
     ]
    }
   ],
   "source": [
    "#print the logs of the web service\n",
    "print(deployed_web_service.get_logs())\n"
   ]
  },
  {
   "cell_type": "code",
   "execution_count": 22,
   "metadata": {
    "gather": {
     "logged": 1612796195501
    }
   },
   "outputs": [],
   "source": [
    "#delete the service\n",
    "deployed_web_service.delete()"
   ]
  },
  {
   "cell_type": "code",
   "execution_count": 23,
   "metadata": {
    "gather": {
     "logged": 1612796210972
    }
   },
   "outputs": [
    {
     "name": "stdout",
     "output_type": "stream",
     "text": [
      "Current provisioning state of AmlCompute is \"Deleting\"\n",
      "\n"
     ]
    }
   ],
   "source": [
    "compute_target.delete()"
   ]
  }
 ],
 "metadata": {
  "kernel_info": {
   "name": "python3-azureml"
  },
  "kernelspec": {
   "display_name": "Python 2",
   "language": "python",
   "name": "python2"
  },
  "language_info": {
   "codemirror_mode": {
    "name": "ipython",
    "version": 2
   },
   "file_extension": ".py",
   "mimetype": "text/x-python",
   "name": "python",
   "nbconvert_exporter": "python",
   "pygments_lexer": "ipython2",
   "version": "2.7.16"
  },
  "nteract": {
   "version": "nteract-front-end@1.0.0"
  }
 },
 "nbformat": 4,
 "nbformat_minor": 2
}
